{
 "cells": [
  {
   "cell_type": "markdown",
   "id": "d6eb0aa1-8e2d-43c5-bccd-0f79bd5a49c1",
   "metadata": {},
   "source": [
    "This notebook shows how to connect and drive an enderscope stage from Python."
   ]
  },
  {
   "cell_type": "markdown",
   "id": "0486e33e-f113-4151-8617-21a387a1cd20",
   "metadata": {},
   "source": [
    "## Fusion de code GUI_Manualmode et SnakeScan"
   ]
  },
  {
   "cell_type": "code",
   "execution_count": 1,
   "id": "b70b5ea2-451c-456c-9c0a-170ae117e71c",
   "metadata": {},
   "outputs": [],
   "source": [
    "# Importing the \"time\" library to handle delays or time intervals\n",
    "import time\n",
    "# The \"Stage,\" \"Panel,\" and \"Enderlights\" classes are imported to control platform movements, interact with the user interface, and manage lighting, respectively.\n",
    "from enderscope import Stage, Panel, Enderlights\n",
    "#Importing theavailable Serial Ports\n",
    "from serial_utils import serial_ports"
   ]
  },
  {
   "cell_type": "code",
   "execution_count": 2,
   "id": "e1107c2a-cdb5-44ab-aef0-5193c3684a15",
   "metadata": {},
   "outputs": [
    {
     "name": "stdout",
     "output_type": "stream",
     "text": [
      "['/dev/ttyUSB0', '/dev/ttyUSB1']\n"
     ]
    }
   ],
   "source": [
    "# list available serial ports\n",
    "ports = serial_ports()\n",
    "print (ports)"
   ]
  },
  {
   "cell_type": "code",
   "execution_count": 3,
   "id": "2f0ffc7c-3ac9-4622-bcf9-94d8b19523e4",
   "metadata": {},
   "outputs": [],
   "source": [
    "#Assigning Ports for Lighting and Stage\n",
    "lightport, stageport = ports\n",
    "stageport, lightport = ports"
   ]
  },
  {
   "cell_type": "code",
   "execution_count": 4,
   "id": "85c56231-871c-4abc-9754-bd873043e289",
   "metadata": {},
   "outputs": [],
   "source": [
    "# connect to enderscope and create a stage object\n",
    "s = Stage(stageport, 115200)"
   ]
  },
  {
   "cell_type": "code",
   "execution_count": 5,
   "id": "d7e612f9-a9ec-49ef-8c2c-4d4523b9e517",
   "metadata": {},
   "outputs": [
    {
     "name": "stderr",
     "output_type": "stream",
     "text": [
      "[8:01:56.577130175] [22574] \u001b[1;32m INFO \u001b[1;37mCamera \u001b[1;34mcamera_manager.cpp:325 \u001b[0mlibcamera v0.3.2+27-7330f29b\n",
      "[8:01:56.610074497] [22613] \u001b[1;33m WARN \u001b[1;37mRPiSdn \u001b[1;34msdn.cpp:40 \u001b[0mUsing legacy SDN tuning - please consider moving SDN inside rpi.denoise\n",
      "[8:01:56.612785035] [22613] \u001b[1;32m INFO \u001b[1;37mRPI \u001b[1;34mvc4.cpp:447 \u001b[0mRegistered camera /base/soc/i2c0mux/i2c@1/imx477@1a to Unicam device /dev/media2 and ISP device /dev/media0\n",
      "[8:01:56.612869853] [22613] \u001b[1;32m INFO \u001b[1;37mRPI \u001b[1;34mpipeline_base.cpp:1126 \u001b[0mUsing configuration file '/usr/share/libcamera/pipeline/rpi/vc4/rpi_apps.yaml'\n",
      "[8:01:56.626705312] [22574] \u001b[1;32m INFO \u001b[1;37mCamera \u001b[1;34mcamera.cpp:1197 \u001b[0mconfiguring streams: (0) 640x480-XBGR8888 (1) 2028x1520-SBGGR12_CSI2P\n",
      "[8:01:56.627336390] [22613] \u001b[1;32m INFO \u001b[1;37mRPI \u001b[1;34mvc4.cpp:622 \u001b[0mSensor: /base/soc/i2c0mux/i2c@1/imx477@1a - Selected sensor format: 2028x1520-SBGGR12_1X12 - Selected unicam format: 2028x1520-pBCC\n"
     ]
    }
   ],
   "source": [
    "from picamera2 import Picamera2\n",
    "from ipywidgets import Output\n",
    "from enderscope import Panel  # Supposons que Panel est dans un fichier séparé\n",
    "\n",
    "# Initialiser la caméra\n",
    "picam2 = Picamera2()\n",
    "\n",
    "# Configurer la caméra pour un flux d'aperçu\n",
    "config = picam2.create_preview_configuration(main={\"size\": (640, 480)})\n",
    "picam2.configure(config)\n",
    "\n",
    "\n",
    "\n",
    "\n"
   ]
  },
  {
   "cell_type": "code",
   "execution_count": 6,
   "id": "8354dd85-05ee-4ec3-8de6-251569fe924b",
   "metadata": {},
   "outputs": [],
   "source": [
    "#Setting the Save Folder for Files\n",
    "folder = \"/home/rasp/Desktop/Manualmode/\""
   ]
  },
  {
   "cell_type": "code",
   "execution_count": 7,
   "id": "f7570797-3fe7-4123-bf4b-63c48919cb95",
   "metadata": {},
   "outputs": [],
   "source": [
    "#Initialiser l'éclairage avec Enderlights\n",
    "l = Enderlights(lightport)"
   ]
  },
  {
   "cell_type": "code",
   "execution_count": 8,
   "id": "8a11185d-f34f-4be7-91c9-945653bc20cd",
   "metadata": {},
   "outputs": [
    {
     "name": "stdout",
     "output_type": "stream",
     "text": [
      "Mode set to Sequential (2)\n"
     ]
    }
   ],
   "source": [
    "#test red lighting one by one for multi-angular modalities\n",
    "l.light_one_by_one()"
   ]
  },
  {
   "cell_type": "code",
   "execution_count": null,
   "id": "4053408d-d4e4-4883-ba16-c071d8aae28b",
   "metadata": {},
   "outputs": [],
   "source": [
    "#Test multicolor lighting for multispectral modalities\n",
    "l.light_all_different_colors()"
   ]
  },
  {
   "cell_type": "code",
   "execution_count": 10,
   "id": "399a5002-c15b-4d11-8119-eba8db37f32a",
   "metadata": {},
   "outputs": [
    {
     "data": {
      "application/vnd.jupyter.widget-view+json": {
       "model_id": "4709492cb65b40d7bff3f70fb9a15bca",
       "version_major": 2,
       "version_minor": 0
      },
      "text/plain": [
       "GridspecLayout(children=(Button(description='Up', layout=Layout(grid_area='widget001', height='auto', width='a…"
      ]
     },
     "metadata": {},
     "output_type": "display_data"
    },
    {
     "data": {
      "application/vnd.jupyter.widget-view+json": {
       "model_id": "9a9e7afd47fe448ab77b2dc288222053",
       "version_major": 2,
       "version_minor": 0
      },
      "text/plain": [
       "Output()"
      ]
     },
     "metadata": {},
     "output_type": "display_data"
    }
   ],
   "source": [
    "# create a stage control panel \n",
    "#add a picam2 object to manage the camera and add three buttons (snap, preview and stop preview) of the camera\n",
    "p = Panel(s, picam2)"
   ]
  },
  {
   "cell_type": "code",
   "execution_count": 11,
   "id": "b9396ef7-f094-4dd4-8615-36bb7a1c12a4",
   "metadata": {},
   "outputs": [
    {
     "data": {
      "text/plain": [
       "{'X': 165.0, 'Y': 60.0, 'Z': 20.0, 'E': 0.0}"
      ]
     },
     "execution_count": 11,
     "metadata": {},
     "output_type": "execute_result"
    }
   ],
   "source": [
    "# position can be retrieved as a dict\n",
    "s.get_position(dict=True)"
   ]
  },
  {
   "cell_type": "markdown",
   "id": "c91e3330-2971-49b8-ad43-34825947da2b",
   "metadata": {},
   "source": [
    "## SnakeScan"
   ]
  },
  {
   "cell_type": "code",
   "execution_count": 13,
   "id": "0cba002a-f19f-4ab1-b62e-6f99f1418654",
   "metadata": {},
   "outputs": [],
   "source": [
    "# home the stage for positionning reproducibility\n",
    "s.home()"
   ]
  },
  {
   "cell_type": "code",
   "execution_count": 14,
   "id": "023de46f-a367-4930-ae49-500ede8810aa",
   "metadata": {},
   "outputs": [],
   "source": [
    "#Absolute Movement of the Stage to the (x, y, z) Coordinates for Optimal Focus on a Flat Object with a Thickness of 5 mm\n",
    "s.move_absolute(30,60,20)"
   ]
  },
  {
   "cell_type": "code",
   "execution_count": 15,
   "id": "acf380bf-21d5-4a1f-9144-a641ffee25bf",
   "metadata": {},
   "outputs": [],
   "source": [
    "#Setting the Save Folder for Files\n",
    "folder = \"/home/rasp/Desktop/snakez/\""
   ]
  },
  {
   "cell_type": "code",
   "execution_count": 16,
   "id": "6aec5060-7c16-4fe1-bb46-7749e8efd313",
   "metadata": {},
   "outputs": [
    {
     "name": "stdout",
     "output_type": "stream",
     "text": [
      "Mode set to White Light (3)\n"
     ]
    }
   ],
   "source": [
    "#Testing Uniform White Lighting\n",
    "l.light_all_one_color()"
   ]
  },
  {
   "cell_type": "code",
   "execution_count": 17,
   "id": "593f3499-7a70-44b6-a522-8818cd015e3a",
   "metadata": {},
   "outputs": [],
   "source": [
    "#Creating a Snake-Shaped Movement Path\n",
    "x, y = s.snake(5, 5, 55, 55)  "
   ]
  },
  {
   "cell_type": "code",
   "execution_count": 18,
   "id": "bb35d94b-0c97-4e47-afb7-bb3eb302a892",
   "metadata": {},
   "outputs": [
    {
     "data": {
      "image/png": "[encoded data removed]",
      "text/plain": [
       "<Figure size 640x480 with 1 Axes>"
      ]
     },
     "metadata": {},
     "output_type": "display_data"
    }
   ],
   "source": [
    "#Visualizing the Snake Path\n",
    "s.plot_snake_path(x,y)"
   ]
  },
  {
   "cell_type": "code",
   "execution_count": 19,
   "id": "14f3e418-2755-4e59-894c-5fb958be801a",
   "metadata": {},
   "outputs": [
    {
     "name": "stdout",
     "output_type": "stream",
     "text": [
      "Place sample\n"
     ]
    },
    {
     "name": "stdin",
     "output_type": "stream",
     "text": [
      "Press the Enter key to proceed \n"
     ]
    }
   ],
   "source": [
    "#Waiting for User Input to Proceed\n",
    "s.wait_user_input()"
   ]
  },
  {
   "cell_type": "code",
   "execution_count": 20,
   "id": "66e15806-cdbe-4d81-b423-dbf11b7624e3",
   "metadata": {},
   "outputs": [
    {
     "name": "stdout",
     "output_type": "stream",
     "text": [
      "Finish!\n"
     ]
    }
   ],
   "source": [
    "#Moving the Camera and Capturing Images Along the Path\n",
    "s.move_camera(picam2, folder, x, y)"
   ]
  },
  {
   "cell_type": "code",
   "execution_count": null,
   "id": "4c011956-28f3-40f4-a219-dc5f96e0165e",
   "metadata": {},
   "outputs": [],
   "source": [
    "#Turning Off Lighting\n",
    "l.turn_off()\n",
    "time.sleep(5)"
   ]
  }
 ],
 "metadata": {
  "kernelspec": {
   "display_name": "Python 3 (ipykernel)",
   "language": "python",
   "name": "python3"
  },
  "language_info": {
   "codemirror_mode": {
    "name": "ipython",
    "version": 3
   },
   "file_extension": ".py",
   "mimetype": "text/x-python",
   "name": "python",
   "nbconvert_exporter": "python",
   "pygments_lexer": "ipython3",
   "version": "3.11.2"
  }
 },
 "nbformat": 4,
 "nbformat_minor": 5
}
