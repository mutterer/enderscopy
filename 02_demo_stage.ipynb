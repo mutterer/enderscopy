{
 "cells": [
  {
   "cell_type": "markdown",
   "id": "0486e33e-f113-4151-8617-21a387a1cd20",
   "metadata": {},
   "source": [
    "## Enderscopy stage demo"
   ]
  },
  {
   "cell_type": "markdown",
   "id": "d6eb0aa1-8e2d-43c5-bccd-0f79bd5a49c1",
   "metadata": {},
   "source": [
    "### This notebook shows how to connect and drive an enderscope stage from Python."
   ]
  },
  {
   "cell_type": "code",
   "execution_count": 1,
   "id": "b70b5ea2-451c-456c-9c0a-170ae117e71c",
   "metadata": {},
   "outputs": [],
   "source": "from enderscope import SerialDevice, Stage"
  },
  {
   "cell_type": "code",
   "execution_count": 2,
   "id": "e1107c2a-cdb5-44ab-aef0-5193c3684a15",
   "metadata": {},
   "outputs": [
    {
     "name": "stdout",
     "output_type": "stream",
     "text": [
      "['/dev/ttyAMA10', '/dev/ttyACM0', '/dev/ttyUSB0']\n"
     ]
    }
   ],
   "source": [
    "# list available serial ports\n",
    "ports = SerialDevice.serial_ports()\n",
    "print(ports)"
   ]
  },
  {
   "cell_type": "code",
   "execution_count": 3,
   "id": "2f0ffc7c-3ac9-4622-bcf9-94d8b19523e4",
   "metadata": {},
   "outputs": [],
   "source": "stage_port = ports[2]"
  },
  {
   "cell_type": "code",
   "execution_count": 4,
   "id": "26b950d2-570e-4656-9f65-b9b196d140b1",
   "metadata": {},
   "outputs": [],
   "source": [
    "# connect to EnderScope and create a stage object\n",
    "stage = Stage(stage_port, 115200)"
   ]
  },
  {
   "cell_type": "code",
   "execution_count": 5,
   "id": "ec800bda-474a-4099-b192-be2fb5b2d6db",
   "metadata": {},
   "outputs": [
    {
     "data": {
      "text/plain": [
       "(-18.0, -2.0, 0.0)"
      ]
     },
     "execution_count": 5,
     "metadata": {},
     "output_type": "execute_result"
    }
   ],
   "source": [
    "# home the stage for positioning reproducibility\n",
    "stage.home()\n",
    "stage.get_position()"
   ]
  },
  {
   "cell_type": "code",
   "execution_count": 6,
   "id": "3409fef7-46f2-4e64-b399-3ba58027c6d6",
   "metadata": {},
   "outputs": [],
   "source": [
    "# move to (x,y(,z)) absolute coordinate\n",
    "stage.move_absolute(0, 0, 10)"
   ]
  },
  {
   "cell_type": "code",
   "execution_count": 7,
   "id": "bf3f438b-a8b6-4999-9f5c-7dc658ef6927",
   "metadata": {},
   "outputs": [],
   "source": [
    "# move (x,y(,z)) mm distances relative to start position\n",
    "stage.move_relative(10, 0)\n",
    "stage.move_relative(-10, 0)"
   ]
  },
  {
   "cell_type": "code",
   "execution_count": 8,
   "id": "c3dc958e-9f47-4297-b813-e16babea4f09",
   "metadata": {},
   "outputs": [],
   "source": [
    "# move relative along single axis \n",
    "stage.move_axis('y', 10)"
   ]
  },
  {
   "cell_type": "code",
   "execution_count": 9,
   "id": "cf84fdf8-a41b-422d-9511-df09c9bbcb5a",
   "metadata": {},
   "outputs": [
    {
     "data": {
      "text/plain": [
       "(10.0, 0.0, 10.0)"
      ]
     },
     "execution_count": 9,
     "metadata": {},
     "output_type": "execute_result"
    }
   ],
   "source": [
    "# iterate over list of positions\n",
    "# positions can be lists or tuples of length 2 or 3\n",
    "positions = [(0, 0, 0), [0, 10], (10, 10, 10), [10, 0]]\n",
    "for repeats in range(5):\n",
    "    for pos in positions:\n",
    "        stage.move_position(pos)\n",
    "        stage.finish_moves()\n",
    "stage.get_position()"
   ]
  },
  {
   "cell_type": "code",
   "execution_count": 10,
   "id": "53406ef1-e936-4924-8e83-3142262cdba8",
   "metadata": {},
   "outputs": [],
   "source": [
    "# you can head towards standard directions, distances are always > 0\n",
    "stage.move_towards('east', 30)\n",
    "stage.move_towards('north', 30)\n",
    "stage.move_towards('west', 30)\n",
    "stage.move_towards('south', 30)\n"
   ]
  },
  {
   "cell_type": "code",
   "execution_count": 12,
   "id": "a69c6998-464a-4e97-9101-6cfc97dc9f0d",
   "metadata": {},
   "outputs": [],
   "source": [
    "# GCode commands are sent in a queue to printer\n",
    "for i in range(15):\n",
    "    stage.move_relative(1, 0, 0)\n",
    "\n",
    "# use finish_moves to wait for printer to settle between moves\n",
    "for i in range(15):\n",
    "    stage.move_relative(-1, 0, 0)\n",
    "    stage.finish_moves()\n"
   ]
  },
  {
   "cell_type": "markdown",
   "id": "f47230fb-3980-4452-8839-cc9d81dccc18",
   "metadata": {},
   "source": [
    "### > see advanced stage notebook for more options"
   ]
  },
  {
   "cell_type": "code",
   "execution_count": null,
   "id": "173da044-30db-49bc-9eee-ec7f498b57eb",
   "metadata": {},
   "outputs": [],
   "source": []
  }
 ],
 "metadata": {
  "kernelspec": {
   "display_name": "Python 3 (ipykernel)",
   "language": "python",
   "name": "python3"
  },
  "language_info": {
   "codemirror_mode": {
    "name": "ipython",
    "version": 3
   },
   "file_extension": ".py",
   "mimetype": "text/x-python",
   "name": "python",
   "nbconvert_exporter": "python",
   "pygments_lexer": "ipython3",
   "version": "3.11.2"
  }
 },
 "nbformat": 4,
 "nbformat_minor": 5
}
