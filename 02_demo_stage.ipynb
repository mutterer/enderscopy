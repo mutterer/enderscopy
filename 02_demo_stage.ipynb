{
 "cells": [
  {
   "cell_type": "markdown",
   "id": "0486e33e-f113-4151-8617-21a387a1cd20",
   "metadata": {},
   "source": [
    "## Enderscopy stage demo"
   ]
  },
  {
   "cell_type": "markdown",
   "id": "d6eb0aa1-8e2d-43c5-bccd-0f79bd5a49c1",
   "metadata": {},
   "source": [
    "### This notebook shows how to connect and drive an enderscope stage from Python."
   ]
  },
  {
   "cell_type": "code",
   "execution_count": 1,
   "id": "b70b5ea2-451c-456c-9c0a-170ae117e71c",
   "metadata": {},
   "outputs": [],
   "source": [
    "import time\n",
    "from enderscope import SerialUtils, Stage"
   ]
  },
  {
   "cell_type": "code",
   "execution_count": 5,
   "id": "e1107c2a-cdb5-44ab-aef0-5193c3684a15",
   "metadata": {},
   "outputs": [
    {
     "name": "stdout",
     "output_type": "stream",
     "text": [
      "['/dev/tty.Bluetooth-Incoming-Port', '/dev/tty.usbmodem144201']\n"
     ]
    }
   ],
   "source": [
    "# list available serial ports\n",
    "ports = SerialUtils.serial_ports()\n",
    "print (ports)"
   ]
  },
  {
   "cell_type": "code",
   "execution_count": 6,
   "id": "2f0ffc7c-3ac9-4622-bcf9-94d8b19523e4",
   "metadata": {},
   "outputs": [],
   "source": [
    "stageport = ports[1]"
   ]
  },
  {
   "cell_type": "code",
   "execution_count": 7,
   "id": "26b950d2-570e-4656-9f65-b9b196d140b1",
   "metadata": {},
   "outputs": [],
   "source": [
    "# connect to enderscope and create a stage object\n",
    "s = Stage(stageport, 115200)"
   ]
  },
  {
   "cell_type": "code",
   "execution_count": 8,
   "id": "ec800bda-474a-4099-b192-be2fb5b2d6db",
   "metadata": {},
   "outputs": [
    {
     "data": {
      "text/plain": [
       "(0.0, 0.0, 0.0)"
      ]
     },
     "execution_count": 8,
     "metadata": {},
     "output_type": "execute_result"
    }
   ],
   "source": [
    "# home the stage for positionning reproducibility\n",
    "s.home()\n",
    "s.get_position()"
   ]
  },
  {
   "cell_type": "code",
   "execution_count": 14,
   "id": "3409fef7-46f2-4e64-b399-3ba58027c6d6",
   "metadata": {},
   "outputs": [
    {
     "ename": "SerialException",
     "evalue": "write failed: [Errno 6] Device not configured",
     "output_type": "error",
     "traceback": [
      "\u001b[0;31m---------------------------------------------------------------------------\u001b[0m",
      "\u001b[0;31mOSError\u001b[0m                                   Traceback (most recent call last)",
      "File \u001b[0;32m~/anaconda3/envs/enderscope/lib/python3.9/site-packages/serial/serialposix.py:621\u001b[0m, in \u001b[0;36mSerial.write\u001b[0;34m(self, data)\u001b[0m\n\u001b[1;32m    620\u001b[0m \u001b[38;5;28;01mtry\u001b[39;00m:\n\u001b[0;32m--> 621\u001b[0m     n \u001b[38;5;241m=\u001b[39m \u001b[43mos\u001b[49m\u001b[38;5;241;43m.\u001b[39;49m\u001b[43mwrite\u001b[49m\u001b[43m(\u001b[49m\u001b[38;5;28;43mself\u001b[39;49m\u001b[38;5;241;43m.\u001b[39;49m\u001b[43mfd\u001b[49m\u001b[43m,\u001b[49m\u001b[43m \u001b[49m\u001b[43md\u001b[49m\u001b[43m)\u001b[49m\n\u001b[1;32m    622\u001b[0m     \u001b[38;5;28;01mif\u001b[39;00m timeout\u001b[38;5;241m.\u001b[39mis_non_blocking:\n\u001b[1;32m    623\u001b[0m         \u001b[38;5;66;03m# Zero timeout indicates non-blocking - simply return the\u001b[39;00m\n\u001b[1;32m    624\u001b[0m         \u001b[38;5;66;03m# number of bytes of data actually written\u001b[39;00m\n",
      "\u001b[0;31mOSError\u001b[0m: [Errno 6] Device not configured",
      "\nDuring handling of the above exception, another exception occurred:\n",
      "\u001b[0;31mSerialException\u001b[0m                           Traceback (most recent call last)",
      "Cell \u001b[0;32mIn[14], line 2\u001b[0m\n\u001b[1;32m      1\u001b[0m \u001b[38;5;66;03m# move to (x,y(,z)) absolute coordinate\u001b[39;00m\n\u001b[0;32m----> 2\u001b[0m \u001b[43ms\u001b[49m\u001b[38;5;241;43m.\u001b[39;49m\u001b[43mmove_absolute\u001b[49m\u001b[43m(\u001b[49m\u001b[38;5;241;43m0\u001b[39;49m\u001b[43m,\u001b[49m\u001b[38;5;241;43m0\u001b[39;49m\u001b[43m,\u001b[49m\u001b[38;5;241;43m10\u001b[39;49m\u001b[43m)\u001b[49m\n",
      "File \u001b[0;32m~/Documents/GitHub/enderscopy/enderscope.py:114\u001b[0m, in \u001b[0;36mStage.move_absolute\u001b[0;34m(self, x, y, z, debug)\u001b[0m\n\u001b[1;32m    106\u001b[0m \u001b[38;5;28;01mdef\u001b[39;00m \u001b[38;5;21mmove_absolute\u001b[39m(\u001b[38;5;28mself\u001b[39m, x, y, z\u001b[38;5;241m=\u001b[39m\u001b[38;5;28;01mNone\u001b[39;00m, debug\u001b[38;5;241m=\u001b[39m\u001b[38;5;28;01mFalse\u001b[39;00m):\n\u001b[1;32m    107\u001b[0m \u001b[38;5;250m    \u001b[39m\u001b[38;5;124;03m\"\"\"\u001b[39;00m\n\u001b[1;32m    108\u001b[0m \u001b[38;5;124;03m    Moves the stage to the given coordinates\u001b[39;00m\n\u001b[1;32m    109\u001b[0m \u001b[38;5;124;03m    :param x:\u001b[39;00m\n\u001b[0;32m   (...)\u001b[0m\n\u001b[1;32m    112\u001b[0m \u001b[38;5;124;03m    :return:\u001b[39;00m\n\u001b[1;32m    113\u001b[0m \u001b[38;5;124;03m    \"\"\"\u001b[39;00m\n\u001b[0;32m--> 114\u001b[0m     \u001b[38;5;28;43mself\u001b[39;49m\u001b[38;5;241;43m.\u001b[39;49m\u001b[43mset_absolute\u001b[49m\u001b[43m(\u001b[49m\u001b[43m)\u001b[49m\n\u001b[1;32m    115\u001b[0m     \u001b[38;5;28;01mif\u001b[39;00m z \u001b[38;5;129;01mis\u001b[39;00m \u001b[38;5;28;01mNone\u001b[39;00m:\n\u001b[1;32m    116\u001b[0m         code \u001b[38;5;241m=\u001b[39m \u001b[38;5;124mf\u001b[39m\u001b[38;5;124m\"\u001b[39m\u001b[38;5;124mG0 X \u001b[39m\u001b[38;5;132;01m{\u001b[39;00mx\u001b[38;5;132;01m}\u001b[39;00m\u001b[38;5;124m Y \u001b[39m\u001b[38;5;132;01m{\u001b[39;00my\u001b[38;5;132;01m}\u001b[39;00m\u001b[38;5;124m\"\u001b[39m\n",
      "File \u001b[0;32m~/Documents/GitHub/enderscopy/enderscope.py:205\u001b[0m, in \u001b[0;36mStage.set_absolute\u001b[0;34m(self, debug)\u001b[0m\n\u001b[1;32m    204\u001b[0m \u001b[38;5;28;01mdef\u001b[39;00m \u001b[38;5;21mset_absolute\u001b[39m(\u001b[38;5;28mself\u001b[39m, debug\u001b[38;5;241m=\u001b[39m\u001b[38;5;28;01mFalse\u001b[39;00m):\n\u001b[0;32m--> 205\u001b[0m     \u001b[38;5;28;43mself\u001b[39;49m\u001b[38;5;241;43m.\u001b[39;49m\u001b[43mwrite_code\u001b[49m\u001b[43m(\u001b[49m\u001b[43mG_CODES\u001b[49m\u001b[43m[\u001b[49m\u001b[38;5;124;43m'\u001b[39;49m\u001b[38;5;124;43mabsolute\u001b[39;49m\u001b[38;5;124;43m'\u001b[39;49m\u001b[43m]\u001b[49m\u001b[43m,\u001b[49m\u001b[43m \u001b[49m\u001b[43mdebug\u001b[49m\u001b[38;5;241;43m=\u001b[39;49m\u001b[43mdebug\u001b[49m\u001b[43m)\u001b[49m\n",
      "File \u001b[0;32m~/Documents/GitHub/enderscopy/enderscope.py:95\u001b[0m, in \u001b[0;36mStage.write_code\u001b[0;34m(self, code, check_ok, debug)\u001b[0m\n\u001b[1;32m     94\u001b[0m \u001b[38;5;28;01mdef\u001b[39;00m \u001b[38;5;21mwrite_code\u001b[39m(\u001b[38;5;28mself\u001b[39m, code, check_ok\u001b[38;5;241m=\u001b[39m\u001b[38;5;28;01mTrue\u001b[39;00m, debug\u001b[38;5;241m=\u001b[39m\u001b[38;5;28;01mFalse\u001b[39;00m):\n\u001b[0;32m---> 95\u001b[0m     \u001b[38;5;28;43msuper\u001b[39;49m\u001b[43m(\u001b[49m\u001b[43m)\u001b[49m\u001b[38;5;241;43m.\u001b[39;49m\u001b[43mwrite_code\u001b[49m\u001b[43m(\u001b[49m\u001b[43mcode\u001b[49m\u001b[43m)\u001b[49m\n\u001b[1;32m     96\u001b[0m     response \u001b[38;5;241m=\u001b[39m \u001b[38;5;28mself\u001b[39m\u001b[38;5;241m.\u001b[39mserial\u001b[38;5;241m.\u001b[39mreadline()\u001b[38;5;241m.\u001b[39mdecode(\u001b[38;5;124m'\u001b[39m\u001b[38;5;124mutf-8\u001b[39m\u001b[38;5;124m'\u001b[39m)\n\u001b[1;32m     97\u001b[0m     \u001b[38;5;28;01mif\u001b[39;00m check_ok:\n",
      "File \u001b[0;32m~/Documents/GitHub/enderscopy/enderscope.py:81\u001b[0m, in \u001b[0;36mSerialDevice.write_code\u001b[0;34m(self, code)\u001b[0m\n\u001b[1;32m     79\u001b[0m \u001b[38;5;28;01mif\u001b[39;00m \u001b[38;5;129;01mnot\u001b[39;00m code\u001b[38;5;241m.\u001b[39mendswith(\u001b[38;5;124m\"\u001b[39m\u001b[38;5;130;01m\\n\u001b[39;00m\u001b[38;5;124m\"\u001b[39m):\n\u001b[1;32m     80\u001b[0m     code \u001b[38;5;241m+\u001b[39m\u001b[38;5;241m=\u001b[39m \u001b[38;5;124m\"\u001b[39m\u001b[38;5;130;01m\\n\u001b[39;00m\u001b[38;5;124m\"\u001b[39m\n\u001b[0;32m---> 81\u001b[0m \u001b[38;5;28;43mself\u001b[39;49m\u001b[38;5;241;43m.\u001b[39;49m\u001b[43mserial\u001b[49m\u001b[38;5;241;43m.\u001b[39;49m\u001b[43mwrite\u001b[49m\u001b[43m(\u001b[49m\u001b[38;5;28;43mbytes\u001b[39;49m\u001b[43m(\u001b[49m\u001b[43mcode\u001b[49m\u001b[43m,\u001b[49m\u001b[43m \u001b[49m\u001b[38;5;124;43m\"\u001b[39;49m\u001b[38;5;124;43mutf-8\u001b[39;49m\u001b[38;5;124;43m\"\u001b[39;49m\u001b[43m)\u001b[49m\u001b[43m)\u001b[49m\n",
      "File \u001b[0;32m~/anaconda3/envs/enderscope/lib/python3.9/site-packages/serial/serialposix.py:655\u001b[0m, in \u001b[0;36mSerial.write\u001b[0;34m(self, data)\u001b[0m\n\u001b[1;32m    650\u001b[0m \u001b[38;5;28;01mexcept\u001b[39;00m \u001b[38;5;167;01mOSError\u001b[39;00m \u001b[38;5;28;01mas\u001b[39;00m e:\n\u001b[1;32m    651\u001b[0m     \u001b[38;5;66;03m# this is for Python 3.x where select.error is a subclass of\u001b[39;00m\n\u001b[1;32m    652\u001b[0m     \u001b[38;5;66;03m# OSError ignore BlockingIOErrors and EINTR. other errors are shown\u001b[39;00m\n\u001b[1;32m    653\u001b[0m     \u001b[38;5;66;03m# https://www.python.org/dev/peps/pep-0475.\u001b[39;00m\n\u001b[1;32m    654\u001b[0m     \u001b[38;5;28;01mif\u001b[39;00m e\u001b[38;5;241m.\u001b[39merrno \u001b[38;5;129;01mnot\u001b[39;00m \u001b[38;5;129;01min\u001b[39;00m (errno\u001b[38;5;241m.\u001b[39mEAGAIN, errno\u001b[38;5;241m.\u001b[39mEALREADY, errno\u001b[38;5;241m.\u001b[39mEWOULDBLOCK, errno\u001b[38;5;241m.\u001b[39mEINPROGRESS, errno\u001b[38;5;241m.\u001b[39mEINTR):\n\u001b[0;32m--> 655\u001b[0m         \u001b[38;5;28;01mraise\u001b[39;00m SerialException(\u001b[38;5;124m'\u001b[39m\u001b[38;5;124mwrite failed: \u001b[39m\u001b[38;5;132;01m{}\u001b[39;00m\u001b[38;5;124m'\u001b[39m\u001b[38;5;241m.\u001b[39mformat(e))\n\u001b[1;32m    656\u001b[0m \u001b[38;5;28;01mexcept\u001b[39;00m select\u001b[38;5;241m.\u001b[39merror \u001b[38;5;28;01mas\u001b[39;00m e:\n\u001b[1;32m    657\u001b[0m     \u001b[38;5;66;03m# this is for Python 2.x\u001b[39;00m\n\u001b[1;32m    658\u001b[0m     \u001b[38;5;66;03m# ignore BlockingIOErrors and EINTR. all errors are shown\u001b[39;00m\n\u001b[1;32m    659\u001b[0m     \u001b[38;5;66;03m# see also http://www.python.org/dev/peps/pep-3151/#select\u001b[39;00m\n\u001b[1;32m    660\u001b[0m     \u001b[38;5;28;01mif\u001b[39;00m e[\u001b[38;5;241m0\u001b[39m] \u001b[38;5;129;01mnot\u001b[39;00m \u001b[38;5;129;01min\u001b[39;00m (errno\u001b[38;5;241m.\u001b[39mEAGAIN, errno\u001b[38;5;241m.\u001b[39mEALREADY, errno\u001b[38;5;241m.\u001b[39mEWOULDBLOCK, errno\u001b[38;5;241m.\u001b[39mEINPROGRESS, errno\u001b[38;5;241m.\u001b[39mEINTR):\n",
      "\u001b[0;31mSerialException\u001b[0m: write failed: [Errno 6] Device not configured"
     ]
    }
   ],
   "source": [
    "# move to (x,y(,z)) absolute coordinate\n",
    "s.move_absolute(0,0,10)"
   ]
  },
  {
   "cell_type": "code",
   "execution_count": 11,
   "id": "bf3f438b-a8b6-4999-9f5c-7dc658ef6927",
   "metadata": {},
   "outputs": [],
   "source": [
    "# move (x,y(,z)) mm distances relative to start position\n",
    "s.move_relative(10,0)\n",
    "s.move_relative(-10,0)"
   ]
  },
  {
   "cell_type": "code",
   "execution_count": 13,
   "id": "c3dc958e-9f47-4297-b813-e16babea4f09",
   "metadata": {},
   "outputs": [],
   "source": [
    "# move relative along single axis \n",
    "s.move_axis('y',10)"
   ]
  },
  {
   "cell_type": "code",
   "execution_count": 11,
   "id": "cf84fdf8-a41b-422d-9511-df09c9bbcb5a",
   "metadata": {},
   "outputs": [
    {
     "data": {
      "text/plain": [
       "(10.0, 0.0, 10.0)"
      ]
     },
     "execution_count": 11,
     "metadata": {},
     "output_type": "execute_result"
    }
   ],
   "source": [
    "# iterate over list of positions\n",
    "# positions can be lists or tuples of length 2 or 3\n",
    "positions = [[0,0,0],[0,10],(10,10,10),[10,0]]\n",
    "for i in range(5):\n",
    "    for pos in positions:\n",
    "        s.move_position(pos)\n",
    "        s.finish_moves() \n",
    "s.get_position()        "
   ]
  },
  {
   "cell_type": "code",
   "execution_count": 12,
   "id": "53406ef1-e936-4924-8e83-3142262cdba8",
   "metadata": {},
   "outputs": [],
   "source": [
    "# you can head towards standard directions, distances are always > 0\n",
    "s.move_towards('east',30)\n",
    "s.move_towards('north',30)\n",
    "s.move_towards('west',30)\n",
    "s.move_towards('south',30)\n"
   ]
  },
  {
   "cell_type": "code",
   "execution_count": 13,
   "id": "a69c6998-464a-4e97-9101-6cfc97dc9f0d",
   "metadata": {},
   "outputs": [],
   "source": [
    "# GCode commands are sent in a queue to printer\n",
    "for i in range(15):\n",
    "    s.move_relative(1,0,0)\n",
    "\n",
    "# use finish_moves to wait for printer to settle between moves\n",
    "for i in range(15):\n",
    "    s.move_relative(-1,0,0)\n",
    "    s.finish_moves() \n"
   ]
  },
  {
   "cell_type": "markdown",
   "id": "f47230fb-3980-4452-8839-cc9d81dccc18",
   "metadata": {},
   "source": [
    "### > see advanced stage notebook for more options"
   ]
  },
  {
   "cell_type": "code",
   "execution_count": null,
   "id": "173da044-30db-49bc-9eee-ec7f498b57eb",
   "metadata": {},
   "outputs": [],
   "source": []
  }
 ],
 "metadata": {
  "kernelspec": {
   "display_name": "Python 3 (ipykernel)",
   "language": "python",
   "name": "python3"
  },
  "language_info": {
   "codemirror_mode": {
    "name": "ipython",
    "version": 3
   },
   "file_extension": ".py",
   "mimetype": "text/x-python",
   "name": "python",
   "nbconvert_exporter": "python",
   "pygments_lexer": "ipython3",
   "version": "3.9.19"
  }
 },
 "nbformat": 4,
 "nbformat_minor": 5
}
