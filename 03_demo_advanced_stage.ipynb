{
 "cells": [
  {
   "cell_type": "markdown",
   "id": "0486e33e-f113-4151-8617-21a387a1cd20",
   "metadata": {},
   "source": [
    "## Enderscopy stage demo"
   ]
  },
  {
   "cell_type": "markdown",
   "id": "d6eb0aa1-8e2d-43c5-bccd-0f79bd5a49c1",
   "metadata": {},
   "source": [
    "### This notebook shows how to connect and drive an enderscope stage from Python."
   ]
  },
  {
   "cell_type": "code",
   "execution_count": 2,
   "id": "b70b5ea2-451c-456c-9c0a-170ae117e71c",
   "metadata": {},
   "outputs": [],
   "source": [
    "import time\n",
    "from enderscope import SerialUtils, Stage"
   ]
  },
  {
   "cell_type": "code",
   "execution_count": 3,
   "id": "e1107c2a-cdb5-44ab-aef0-5193c3684a15",
   "metadata": {},
   "outputs": [
    {
     "name": "stdout",
     "output_type": "stream",
     "text": [
      "['/dev/tty.Bluetooth-Incoming-Port', '/dev/tty.usbmodem144301']\n"
     ]
    }
   ],
   "source": [
    "# list available serial ports\n",
    "ports = SerialUtils.serial_ports()\n",
    "print (ports)"
   ]
  },
  {
   "cell_type": "code",
   "execution_count": 4,
   "id": "2f0ffc7c-3ac9-4622-bcf9-94d8b19523e4",
   "metadata": {},
   "outputs": [],
   "source": [
    "stageport = ports[1]"
   ]
  },
  {
   "cell_type": "code",
   "execution_count": 5,
   "id": "26b950d2-570e-4656-9f65-b9b196d140b1",
   "metadata": {},
   "outputs": [],
   "source": [
    "# connect to enderscope and create a stage object\n",
    "s = Stage(stageport, 115200)"
   ]
  },
  {
   "cell_type": "code",
   "execution_count": 6,
   "id": "ec800bda-474a-4099-b192-be2fb5b2d6db",
   "metadata": {},
   "outputs": [],
   "source": [
    "# home the stage for positionning reproducibility\n",
    "s.home()"
   ]
  },
  {
   "cell_type": "code",
   "execution_count": 7,
   "id": "3409fef7-46f2-4e64-b399-3ba58027c6d6",
   "metadata": {},
   "outputs": [],
   "source": [
    "# move to (x,y(,z)) absolute coordinate\n",
    "s.move_absolute(10,10,10)"
   ]
  },
  {
   "cell_type": "code",
   "execution_count": 9,
   "id": "173da044-30db-49bc-9eee-ec7f498b57eb",
   "metadata": {},
   "outputs": [
    {
     "name": "stdout",
     "output_type": "stream",
     "text": [
      "X:10.00 Y:10.00 Z:10.00 E:0.00 F:2000.00 move:90\n",
      "M114\n"
     ]
    },
    {
     "data": {
      "text/plain": [
       "'ok\\r\\n'"
      ]
     },
     "execution_count": 9,
     "metadata": {},
     "output_type": "execute_result"
    }
   ],
   "source": [
    "# sending specific low level GCode to read device parameters\n",
    "s.write_code(f\"M114\", debug=True)"
   ]
  },
  {
   "cell_type": "code",
   "execution_count": 8,
   "id": "be83a935-1d84-4660-a638-6e9a4b37dc52",
   "metadata": {},
   "outputs": [],
   "source": [
    "# this can be used to set axis speeds:\n",
    "s.write_code(f\"M203 Z50\") # increase z axis speed to 50\n",
    "s.move_axis('z',40) # go up fast\n",
    "s.write_code(f\"M203 Z5\") # restore z axis speed to 5\n",
    "s.move_axis('z',-40) # go down slowly"
   ]
  },
  {
   "cell_type": "code",
   "execution_count": 9,
   "id": "52610ca5-c089-47d8-a4a4-8e9fad99c4be",
   "metadata": {},
   "outputs": [],
   "source": [
    "# follow arbitrary curve from GCode\n",
    "# create curve in inkscape, export as svg, import in slicer, export gcode\n",
    "# then read it back in a string\n",
    "import os\n",
    "def read_g_code(fname):\n",
    "    fpath = os.path.join(\".\", fname)\n",
    "    with open(fpath, \"r\") as text_file:\n",
    "        data = text_file.read()\n",
    "    return data\n",
    "path = read_g_code(\"tests/path2.gcode\")"
   ]
  },
  {
   "cell_type": "code",
   "execution_count": 10,
   "id": "07f0cfd2-9656-497f-9bb4-25ad470feea4",
   "metadata": {},
   "outputs": [
    {
     "name": "stdout",
     "output_type": "stream",
     "text": [
      "G1 X39.133 Y60.578 E.11078\n",
      "G1 X34.751 Y59.885 E.12542\n",
      "G1 X29.685 Y58.899 E.14591\n",
      "G1 X27.082 Y58.291 E.07557\n",
      "G1 X24.533 Y57.604 E.07463\n",
      "G1 X22.121 Y56.839 E.07154\n",
      "G1 X19.932 Y55.998 E.0663\n",
      "G1 X18.023 Y55.073 E.05997\n",
      "G1 X16.475 Y54.064 E.05224\n",
      "G1 X15.861 Y53.529 E.02302\n",
      "G1 X15.368 Y52.974 E.02099\n",
      "G1 X15.005 Y52.399 E.01922\n",
      "G1 X14.769 Y51.77 E.01899\n",
      "G1 X14.593 Y50.62 E.03289\n",
      "G1 X14.636 Y49.518 E.03118\n",
      "G1 X14.883 Y48.465 E.03058\n",
      "G1 X15.293 Y47.499 E.02967\n",
      "G1 X15.841 Y46.583 E.03018\n",
      "G1 X16.499 Y45.707 E.03097\n",
      "G1 X18.018 Y44.041 E.06374\n",
      "G1 X19.629 Y42.412 E.06477\n",
      "G1 X21.087 Y40.751 E.06248\n",
      "G1 X21.675 Y39.899 E.02927\n",
      "G1 X22.146 Y38.998 E.02874\n",
      "G1 X22.463 Y38.051 E.02823\n",
      "G1 X22.598 Y37.047 E.02864\n",
      "G1 X22.523 Y36.038 E.0286\n",
      "G1 X22.256 Y35.087 E.02793\n",
      "G1 X21.818 Y34.168 E.02878\n",
      "G1 X21.256 Y33.305 E.02912\n",
      "G1 X19.876 Y31.656 E.06079\n",
      "G1 X18.339 Y30.017 E.06352\n",
      "G1 X16.905 Y28.32 E.06281\n",
      "G1 X16.301 Y27.418 E.03069\n",
      "G1 X15.817 Y26.471 E.03007\n",
      "G1 X15.474 Y25.442 E.03066\n",
      "G1 X15.323 Y24.393 E.02996\n",
      "G1 X15.376 Y23.237 E.03272\n",
      "G1 X15.68 Y21.966 E.03695\n",
      "G1 X16.223 Y20.68 E.03946\n",
      "G1 X17.009 Y19.349 E.0437\n",
      "G1 X17.992 Y18.041 E.04626\n",
      "G1 X19.151 Y16.762 E.0488\n",
      "G1 X20.486 Y15.506 E.05182\n",
      "G1 X21.946 Y14.318 E.05321\n",
      "G1 X23.539 Y13.191 E.05517\n",
      "G1 X25.211 Y12.161 E.05552\n",
      "G1 X26.973 Y11.228 E.05637\n",
      "G1 X28.77 Y10.423 E.05567\n",
      "G1 X30.615 Y9.748 E.05554\n",
      "G1 X32.446 Y9.234 E.05377\n",
      "G1 X34.274 Y8.887 E.0526\n",
      "G1 X36.081 Y8.726 E.05129\n",
      "G1 X37.817 Y8.769 E.04909\n",
      "G1 X39.449 Y9.028 E.04672\n",
      "G1 X40.261 Y9.305 E.02426\n",
      "G1 X41.101 Y9.76 E.02701\n",
      "G1 X41.93 Y10.364 E.029\n",
      "G1 X42.766 Y11.113 E.03173\n",
      "G1 X43.602 Y11.991 E.03427\n",
      "G1 X44.452 Y13.005 E.03741\n",
      "G1 X46.137 Y15.341 E.08143\n",
      "G1 X47.799 Y18.026 E.08927\n",
      "G1 X49.418 Y20.964 E.09484\n",
      "G1 X50.981 Y24.074 E.0984\n",
      "G1 X52.459 Y27.247 E.09896\n",
      "G1 X55.098 Y33.435 E.19019\n",
      "G1 X57.18 Y38.785 E.1623\n",
      "G1 X58.919 Y43.639 E.14577\n",
      "\n"
     ]
    }
   ],
   "source": [
    "print(path)"
   ]
  },
  {
   "cell_type": "code",
   "execution_count": 11,
   "id": "d2751682-4a90-41d5-89af-d5f2bd005899",
   "metadata": {},
   "outputs": [],
   "source": [
    "s.set_absolute()\n",
    "# multiline GCode is not supported yet so cut it in pieces for now\n",
    "for i in range(1,50):\n",
    "    bit = path.split('\\n')[i]\n",
    "    bit = bit[0:bit.index('E')-1]\n",
    "    s.write_code(bit, debug=False)"
   ]
  },
  {
   "cell_type": "code",
   "execution_count": null,
   "id": "12da8e8f-adf2-4a7d-8667-efb968ff014e",
   "metadata": {},
   "outputs": [],
   "source": []
  }
 ],
 "metadata": {
  "kernelspec": {
   "display_name": "Python 3 (ipykernel)",
   "language": "python",
   "name": "python3"
  },
  "language_info": {
   "codemirror_mode": {
    "name": "ipython",
    "version": 3
   },
   "file_extension": ".py",
   "mimetype": "text/x-python",
   "name": "python",
   "nbconvert_exporter": "python",
   "pygments_lexer": "ipython3",
   "version": "3.9.19"
  }
 },
 "nbformat": 4,
 "nbformat_minor": 5
}
