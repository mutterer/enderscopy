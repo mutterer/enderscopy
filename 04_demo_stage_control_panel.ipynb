{
 "cells": [
  {
   "cell_type": "markdown",
   "id": "14587961-badb-473f-aaa5-1faec1947c50",
   "metadata": {},
   "source": [
    "## Enderscopy stage control panel demo"
   ]
  },
  {
   "cell_type": "markdown",
   "id": "068e52e2-9224-4862-ae13-f05c8fe35a52",
   "metadata": {},
   "source": [
    "This notebook shows how to create a stage control panel."
   ]
  },
  {
   "cell_type": "code",
   "execution_count": 1,
   "id": "b70b5ea2-451c-456c-9c0a-170ae117e71c",
   "metadata": {},
   "outputs": [],
   "source": [
    "from enderscope import SerialUtils, Stage, Panel"
   ]
  },
  {
   "cell_type": "code",
   "execution_count": 2,
   "id": "e1107c2a-cdb5-44ab-aef0-5193c3684a15",
   "metadata": {},
   "outputs": [
    {
     "name": "stdout",
     "output_type": "stream",
     "text": [
      "['/dev/ttyAMA10', '/dev/ttyACM0', '/dev/ttyUSB0']\n"
     ]
    }
   ],
   "source": [
    "# list available serial ports\n",
    "ports = SerialUtils.serial_ports()\n",
    "print (ports)"
   ]
  },
  {
   "cell_type": "code",
   "execution_count": 3,
   "id": "2f0ffc7c-3ac9-4622-bcf9-94d8b19523e4",
   "metadata": {},
   "outputs": [],
   "source": [
    "lightport = ports[1]\n",
    "stageport = ports[2]"
   ]
  },
  {
   "cell_type": "code",
   "execution_count": 4,
   "id": "26b950d2-570e-4656-9f65-b9b196d140b1",
   "metadata": {},
   "outputs": [],
   "source": [
    "# connect to enderscope and create a stage object\n",
    "s = Stage(stageport, 115200)"
   ]
  },
  {
   "cell_type": "code",
   "execution_count": 5,
   "id": "1e41961e-73fe-4cdb-a10a-38ec8b198d41",
   "metadata": {},
   "outputs": [
    {
     "data": {
      "application/vnd.jupyter.widget-view+json": {
       "model_id": "86c516bcfb37411fa05e6de19efa45af",
       "version_major": 2,
       "version_minor": 0
      },
      "text/plain": [
       "GridspecLayout(children=(Button(description='Up', layout=Layout(grid_area='widget001', height='auto', width='a…"
      ]
     },
     "metadata": {},
     "output_type": "display_data"
    },
    {
     "data": {
      "application/vnd.jupyter.widget-view+json": {
       "model_id": "10b7127cb68b49008b8a2c16b4ed9d83",
       "version_major": 2,
       "version_minor": 0
      },
      "text/plain": [
       "Output()"
      ]
     },
     "metadata": {},
     "output_type": "display_data"
    }
   ],
   "source": [
    "# create a stage control panel\n",
    "p = Panel(s)"
   ]
  },
  {
   "cell_type": "code",
   "execution_count": 7,
   "id": "9ea10739-bbdb-48de-b092-bfd44e15d1b5",
   "metadata": {},
   "outputs": [
    {
     "data": {
      "text/plain": [
       "[(30.61, 9.75, 10.0), None, None, None, None, None]"
      ]
     },
     "execution_count": 7,
     "metadata": {},
     "output_type": "execute_result"
    }
   ],
   "source": [
    "p.recorded_positions"
   ]
  },
  {
   "cell_type": "code",
   "execution_count": null,
   "id": "cf84fdf8-a41b-422d-9511-df09c9bbcb5a",
   "metadata": {},
   "outputs": [],
   "source": [
    "# iterate over manually recorded positions\n",
    "for i in range(5):\n",
    "    for pos in p.recorded_positions:\n",
    "        s.move_position(pos)\n",
    "        s.finish_moves()\n",
    "        # add camera snap here\n",
    "        "
   ]
  }
 ],
 "metadata": {
  "kernelspec": {
   "display_name": "Python 3 (ipykernel)",
   "language": "python",
   "name": "python3"
  },
  "language_info": {
   "codemirror_mode": {
    "name": "ipython",
    "version": 3
   },
   "file_extension": ".py",
   "mimetype": "text/x-python",
   "name": "python",
   "nbconvert_exporter": "python",
   "pygments_lexer": "ipython3",
   "version": "3.11.2"
  }
 },
 "nbformat": 4,
 "nbformat_minor": 5
}
