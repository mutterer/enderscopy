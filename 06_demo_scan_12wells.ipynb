{
 "cells": [
  {
   "cell_type": "markdown",
   "id": "0486e33e-f113-4151-8617-21a387a1cd20",
   "metadata": {},
   "source": [
    "## Enderscopy stage and lights demo"
   ]
  },
  {
   "cell_type": "markdown",
   "id": "d6eb0aa1-8e2d-43c5-bccd-0f79bd5a49c1",
   "metadata": {},
   "source": [
    "This notebook shows how to connect and drive an enderscope stage from Python."
   ]
  },
  {
   "cell_type": "code",
   "execution_count": 1,
   "id": "b70b5ea2-451c-456c-9c0a-170ae117e71c",
   "metadata": {},
   "outputs": [],
   "source": [
    "import time\n",
    "from enderscope import SerialUtils, Stage, Panel, Enderlights"
   ]
  },
  {
   "cell_type": "code",
   "execution_count": 2,
   "id": "e1107c2a-cdb5-44ab-aef0-5193c3684a15",
   "metadata": {},
   "outputs": [
    {
     "name": "stdout",
     "output_type": "stream",
     "text": [
      "['/dev/ttyAMA10', '/dev/ttyACM0', '/dev/ttyUSB0']\n"
     ]
    }
   ],
   "source": [
    "# list available serial ports\n",
    "ports = SerialUtils.serial_ports()\n",
    "print (ports)"
   ]
  },
  {
   "cell_type": "code",
   "execution_count": 3,
   "id": "2f0ffc7c-3ac9-4622-bcf9-94d8b19523e4",
   "metadata": {},
   "outputs": [],
   "source": [
    "lightport = ports[1]\n",
    "stageport = ports[2]"
   ]
  },
  {
   "cell_type": "code",
   "execution_count": 6,
   "id": "26b950d2-570e-4656-9f65-b9b196d140b1",
   "metadata": {},
   "outputs": [],
   "source": [
    "# connect to enderscope and create a stage object\n",
    "s = Stage(stageport, 115200)\n",
    "l = Enderlights(lightport, 57600)\n",
    "s.home()\n",
    "s.move_relative(0,0,10)"
   ]
  },
  {
   "cell_type": "code",
   "execution_count": null,
   "id": "9085a11f-cf62-4588-baa4-a1cbe03cfb4c",
   "metadata": {},
   "outputs": [],
   "source": [
    "# create an array of positions to perform a raster scan\n",
    "# import time\n",
    "import numpy as np\n",
    "\n",
    "origin = [56,100] # coordinates of first position\n",
    "steps = [25,-25] # x and y offsets to next item\n",
    "grid = np.array(list((x,y) for y in range(3) for x in range(4))) * steps + origin\n",
    "for p in grid:\n",
    "    s.move_position(p)\n",
    "    s.finish_moves() \n",
    "    l.shutter(True)\n",
    "    time.sleep(0.5)\n",
    "    l.shutter(False)\n",
    "\n",
    "s.move_position(origin) # move back to origin\n"
   ]
  },
  {
   "cell_type": "code",
   "execution_count": null,
   "id": "4aa12424-0257-4b94-8ff4-5ea12c9a6117",
   "metadata": {},
   "outputs": [],
   "source": []
  }
 ],
 "metadata": {
  "kernelspec": {
   "display_name": "Python 3 (ipykernel)",
   "language": "python",
   "name": "python3"
  },
  "language_info": {
   "codemirror_mode": {
    "name": "ipython",
    "version": 3
   },
   "file_extension": ".py",
   "mimetype": "text/x-python",
   "name": "python",
   "nbconvert_exporter": "python",
   "pygments_lexer": "ipython3",
   "version": "3.11.2"
  }
 },
 "nbformat": 4,
 "nbformat_minor": 5
}
