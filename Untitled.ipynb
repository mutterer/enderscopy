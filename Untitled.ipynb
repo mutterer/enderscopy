{
 "cells": [
  {
   "cell_type": "code",
   "execution_count": 2,
   "id": "0efe4dd2-be6a-4a07-87c4-50dad5c2e589",
   "metadata": {},
   "outputs": [
    {
     "name": "stdout",
     "output_type": "stream",
     "text": [
      "['/dev/tty.Bluetooth-Incoming-Port', '/dev/tty.usbmodem142201']\n"
     ]
    }
   ],
   "source": [
    "import time\n",
    "from enderscope import Stage, Panel, Enderlights\n",
    "from serial_utils import serial_ports\n",
    "# list available serial ports\n",
    "ports = serial_ports()\n",
    "print (ports)"
   ]
  },
  {
   "cell_type": "code",
   "execution_count": 3,
   "id": "764bd8b6-1137-4430-8750-e445e4f2cfef",
   "metadata": {},
   "outputs": [],
   "source": [
    "l = Enderlights(ports[1])\n",
    "time.sleep(2)"
   ]
  },
  {
   "cell_type": "code",
   "execution_count": 6,
   "id": "820a4ec7-0fed-44c8-b2d6-dd4fc8cf1a40",
   "metadata": {},
   "outputs": [],
   "source": [
    "l.shutter(True)\n"
   ]
  },
  {
   "cell_type": "code",
   "execution_count": 8,
   "id": "f8132048-f9ce-4a2c-83cc-74719f0dbcf9",
   "metadata": {},
   "outputs": [],
   "source": [
    "for i in range(40):\n",
    "    done = l.write_code(f\"M{i}\\n\")\n",
    "    time.sleep(0.2)"
   ]
  },
  {
   "cell_type": "code",
   "execution_count": null,
   "id": "dc79a61c-0ccc-432a-9269-23bdf3348bd7",
   "metadata": {},
   "outputs": [],
   "source": []
  }
 ],
 "metadata": {
  "kernelspec": {
   "display_name": "Python 3 (ipykernel)",
   "language": "python",
   "name": "python3"
  },
  "language_info": {
   "codemirror_mode": {
    "name": "ipython",
    "version": 3
   },
   "file_extension": ".py",
   "mimetype": "text/x-python",
   "name": "python",
   "nbconvert_exporter": "python",
   "pygments_lexer": "ipython3",
   "version": "3.9.19"
  }
 },
 "nbformat": 4,
 "nbformat_minor": 5
}
