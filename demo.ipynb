{
 "cells": [
  {
   "cell_type": "markdown",
   "id": "0486e33e-f113-4151-8617-21a387a1cd20",
   "metadata": {},
   "source": [
    "## Enderscopy stage and lights demo"
   ]
  },
  {
   "cell_type": "markdown",
   "id": "d6eb0aa1-8e2d-43c5-bccd-0f79bd5a49c1",
   "metadata": {},
   "source": [
    "This notebook shows how to connect and drive an enderscope stage from Python."
   ]
  },
  {
   "cell_type": "code",
   "execution_count": null,
   "id": "b70b5ea2-451c-456c-9c0a-170ae117e71c",
   "metadata": {},
   "outputs": [],
   "source": [
    "import time\n",
    "from enderscope import Stage, Panel, Enderlights\n",
    "from serial_utils import serial_ports"
   ]
  },
  {
   "cell_type": "code",
   "execution_count": null,
   "id": "e1107c2a-cdb5-44ab-aef0-5193c3684a15",
   "metadata": {},
   "outputs": [],
   "source": [
    "# list available serial ports\n",
    "ports = serial_ports()\n",
    "print (ports)"
   ]
  },
  {
   "cell_type": "code",
   "execution_count": null,
   "id": "2f0ffc7c-3ac9-4622-bcf9-94d8b19523e4",
   "metadata": {},
   "outputs": [],
   "source": [
    "lightport, stageport = ports\n",
    "stageport, lightport = ports"
   ]
  },
  {
   "cell_type": "code",
   "execution_count": null,
   "id": "26b950d2-570e-4656-9f65-b9b196d140b1",
   "metadata": {},
   "outputs": [],
   "source": [
    "# connect to enderscope and create a stage object\n",
    "s = Stage(stageport, 115200)"
   ]
  },
  {
   "cell_type": "code",
   "execution_count": null,
   "id": "1e41961e-73fe-4cdb-a10a-38ec8b198d41",
   "metadata": {},
   "outputs": [],
   "source": [
    "# create a stage control panel\n",
    "p = Panel(s)"
   ]
  },
  {
   "cell_type": "code",
   "execution_count": null,
   "id": "9ea10739-bbdb-48de-b092-bfd44e15d1b5",
   "metadata": {},
   "outputs": [],
   "source": [
    "p.recorded_positions"
   ]
  },
  {
   "cell_type": "code",
   "execution_count": null,
   "id": "cf84fdf8-a41b-422d-9511-df09c9bbcb5a",
   "metadata": {},
   "outputs": [],
   "source": [
    "# iterate over manually recorded positions\n",
    "for i in range(5):\n",
    "    for pos in p.recorded_positions:\n",
    "        s.move_position(pos)\n",
    "        s.finish_moves()\n",
    "        "
   ]
  },
  {
   "cell_type": "code",
   "execution_count": null,
   "id": "4fd7b0ef-3f0c-494d-9a35-e6e6a62612fa",
   "metadata": {},
   "outputs": [],
   "source": [
    "# home the stage for positionning reproducibility\n",
    "s.home()\n",
    "# move to a safe distance along the z axis, axis is x, y or z, distances are in millimeters\n",
    "s.move_axis('z',10)"
   ]
  },
  {
   "cell_type": "code",
   "execution_count": null,
   "id": "31aa5084-188c-4f0c-b9df-f3e02a488df2",
   "metadata": {},
   "outputs": [],
   "source": [
    "# read the stage position\n",
    "s.get_position()"
   ]
  },
  {
   "cell_type": "code",
   "execution_count": null,
   "id": "3d859ee6-f9e2-46f2-9d95-36c64bdc3651",
   "metadata": {},
   "outputs": [],
   "source": [
    "# position can be retrieved as a dict\n",
    "s.get_position(dict=True)"
   ]
  },
  {
   "cell_type": "code",
   "execution_count": null,
   "id": "f8aa5b0e-ca7c-410e-846c-bb4a46732c99",
   "metadata": {},
   "outputs": [],
   "source": []
  },
  {
   "cell_type": "code",
   "execution_count": null,
   "id": "cec59688-38d8-44a8-b634-485798718122",
   "metadata": {},
   "outputs": [],
   "source": [
    "# move to (x,y(,z)) absolute coordinate\n",
    "s.move_absolute(50,120)"
   ]
  },
  {
   "cell_type": "code",
   "execution_count": null,
   "id": "c37343d6-cdb0-414e-bd96-58761a6c62c4",
   "metadata": {},
   "outputs": [],
   "source": [
    "# debug view the actual G-Code that was sent\n",
    "s.move_absolute(20,30, debug=True)"
   ]
  },
  {
   "cell_type": "code",
   "execution_count": null,
   "id": "53406ef1-e936-4924-8e83-3142262cdba8",
   "metadata": {},
   "outputs": [],
   "source": [
    "# you can head towards standard directions, distances are always > 0\n",
    "s.move_towards('east',70)"
   ]
  },
  {
   "cell_type": "code",
   "execution_count": null,
   "id": "1c58f4e1-8600-48f4-8b65-7fcd4bf721c8",
   "metadata": {},
   "outputs": [],
   "source": [
    "# you can move by some amount, relative to the current position\n",
    "s.move_relative(0,0,5)"
   ]
  },
  {
   "cell_type": "code",
   "execution_count": null,
   "id": "a69c6998-464a-4e97-9101-6cfc97dc9f0d",
   "metadata": {},
   "outputs": [],
   "source": [
    "for i in range(15):\n",
    "    s.move_relative(-1,0,0)"
   ]
  },
  {
   "cell_type": "code",
   "execution_count": null,
   "id": "582b35cd-a5ed-4145-b4d9-72df9fc57fad",
   "metadata": {},
   "outputs": [],
   "source": [
    "# a position is a tuple of length 2 or 3 to which you can move\n",
    "pos = (20,20)\n",
    "s.move_position(pos)"
   ]
  },
  {
   "cell_type": "code",
   "execution_count": null,
   "id": "44cbb666-adb7-4f75-b6f3-2922d816ea88",
   "metadata": {},
   "outputs": [],
   "source": [
    "p = (40,40,10)\n",
    "s.move_position(p)"
   ]
  },
  {
   "cell_type": "code",
   "execution_count": null,
   "id": "5d3e1b5e-a372-4f7c-aea6-18fc3ff3109d",
   "metadata": {},
   "outputs": [],
   "source": [
    "# sending specific gcode to read device parameters\n",
    "s.write_code(f\"M503\", debug=True)"
   ]
  },
  {
   "cell_type": "code",
   "execution_count": null,
   "id": "8bdc01f3-1661-4047-95e0-d02589a81d38",
   "metadata": {},
   "outputs": [],
   "source": [
    "s.write_code(f\"M203 Z50\") # increase z axis speed to 50\n",
    "s.move_axis('z',40) # go up fast\n",
    "s.write_code(f\"M203 Z5\") # restore z axis speed to 5\n",
    "s.move_axis('z',-40) # go down slowly"
   ]
  },
  {
   "cell_type": "code",
   "execution_count": null,
   "id": "6b9eefff-c56a-4dd3-a4ed-81391545cbd1",
   "metadata": {},
   "outputs": [],
   "source": [
    "l = Enderlights(lightport)"
   ]
  },
  {
   "cell_type": "code",
   "execution_count": null,
   "id": "ffc397a9-e45e-4d86-b120-8ec078c5ced1",
   "metadata": {},
   "outputs": [],
   "source": [
    "# querrying LED state\n",
    "done = l.write_code(f\"?\\n\")"
   ]
  },
  {
   "cell_type": "code",
   "execution_count": null,
   "id": "9a249dc5-76a7-4359-a0cd-b88c594fae26",
   "metadata": {},
   "outputs": [],
   "source": [
    "# setting LED colors\n",
    "l.color(100,0,0)\n",
    "l.green(10)\n",
    "l.blue(30)"
   ]
  },
  {
   "cell_type": "code",
   "execution_count": null,
   "id": "ae05394c-f117-4ac5-ac80-8f1d705e6c06",
   "metadata": {},
   "outputs": [],
   "source": [
    "# blinking LEDs ;-)\n",
    "for i in range(10):\n",
    "    l.shutter(True)\n",
    "    time.sleep(0.05)\n",
    "    l.red(100)\n",
    "    l.shutter(False)\n",
    "    time.sleep(0.05)"
   ]
  },
  {
   "cell_type": "code",
   "execution_count": null,
   "id": "716b3a07-028f-42f8-9672-8a98311184af",
   "metadata": {},
   "outputs": [],
   "source": [
    "from picamera2 import Picamera2\n",
    "picam2 = Picamera2()\n",
    "picam2.start(show_preview=True)\n",
    "# picam2.capture_file(\"test.jpg\")\n",
    "# picam2.close()"
   ]
  },
  {
   "cell_type": "code",
   "execution_count": null,
   "id": "9085a11f-cf62-4588-baa4-a1cbe03cfb4c",
   "metadata": {},
   "outputs": [],
   "source": [
    "# create an array of positions to perform a raster scan\n",
    "# import time\n",
    "import numpy as np\n",
    "\n",
    "origin = [56,100] # coordinates of first position\n",
    "steps = [25,-25] # x and y offsets to next item\n",
    "grid = np.array(list((x,y) for y in range(3) for x in range(4))) * steps + origin\n",
    "for p in grid:\n",
    "    s.move_position(p)\n",
    "    s.finish_moves() \n",
    "    l.shutter(True)\n",
    "    time.sleep(0.1)\n",
    "    picam2.capture_file(str(p)+\"_test.jpg\")\n",
    "    #time.sleep(2)\n",
    "    l.shutter(False)\n",
    "\n",
    "s.move_position(origin) # move back to origin\n",
    "picam2.close()"
   ]
  },
  {
   "cell_type": "code",
   "execution_count": null,
   "id": "3b791c24-2930-444d-9601-495220a44cd3",
   "metadata": {},
   "outputs": [],
   "source": [
    "# arbitrary curve from gcode\n",
    "# create curve in inkscape, export as svg, import in slicer, export gcode\n",
    "import os\n",
    "def read_g_code(fname):\n",
    "    fpath = os.path.join(\".\", fname)\n",
    "    with open(fpath, \"r\") as text_file:\n",
    "        data = text_file.read()\n",
    "    return data\n",
    "path = read_g_code(\"tests/path2.gcode\")"
   ]
  },
  {
   "cell_type": "code",
   "execution_count": null,
   "id": "51d2602a-023e-4156-b668-a198b37dc24f",
   "metadata": {},
   "outputs": [],
   "source": [
    "for i in range(1,50):\n",
    "    bit = path.split('\\n')[i]\n",
    "    bit = bit[0:bit.index('E')-1]\n",
    "    s.write_code(bit, debug=False)"
   ]
  },
  {
   "cell_type": "code",
   "execution_count": null,
   "id": "13371146-0bad-4ce8-9d41-2e79bc8e6c16",
   "metadata": {},
   "outputs": [],
   "source": []
  }
 ],
 "metadata": {
  "kernelspec": {
   "display_name": "Python 3 (ipykernel)",
   "language": "python",
   "name": "python3"
  },
  "language_info": {
   "codemirror_mode": {
    "name": "ipython",
    "version": 3
   },
   "file_extension": ".py",
   "mimetype": "text/x-python",
   "name": "python",
   "nbconvert_exporter": "python",
   "pygments_lexer": "ipython3",
   "version": "3.9.19"
  }
 },
 "nbformat": 4,
 "nbformat_minor": 5
}
