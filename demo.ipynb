{
 "cells": [
  {
   "cell_type": "markdown",
   "id": "52a81283-c1c7-488a-bc62-8088378aabc1",
   "metadata": {},
   "source": [
    "## Enderscope stage"
   ]
  },
  {
   "cell_type": "markdown",
   "id": "d6eb0aa1-8e2d-43c5-bccd-0f79bd5a49c1",
   "metadata": {},
   "source": [
    "This notebook shows how to connect and drive an enderscope stage from Python."
   ]
  },
  {
   "cell_type": "code",
   "execution_count": 1,
   "id": "b70b5ea2-451c-456c-9c0a-170ae117e71c",
   "metadata": {},
   "outputs": [],
   "source": [
    "from enderscope import Stage, Panel\n",
    "from serial_utils import serial_ports"
   ]
  },
  {
   "cell_type": "code",
   "execution_count": 2,
   "id": "e1107c2a-cdb5-44ab-aef0-5193c3684a15",
   "metadata": {},
   "outputs": [
    {
     "data": {
      "text/plain": [
       "['/dev/tty.Bluetooth-Incoming-Port', '/dev/tty.usbserial-142130']"
      ]
     },
     "execution_count": 2,
     "metadata": {},
     "output_type": "execute_result"
    }
   ],
   "source": [
    "# list available serial ports\n",
    "serial_ports()"
   ]
  },
  {
   "cell_type": "code",
   "execution_count": 3,
   "id": "26b950d2-570e-4656-9f65-b9b196d140b1",
   "metadata": {},
   "outputs": [],
   "source": [
    "# connect to enderscope and create a stage object\n",
    "s = Stage(serial_ports()[1], 115200)"
   ]
  },
  {
   "cell_type": "code",
   "execution_count": 10,
   "id": "1e41961e-73fe-4cdb-a10a-38ec8b198d41",
   "metadata": {},
   "outputs": [
    {
     "data": {
      "application/vnd.jupyter.widget-view+json": {
       "model_id": "2743fcfdca5f4afbaade1170c525c823",
       "version_major": 2,
       "version_minor": 0
      },
      "text/plain": [
       "GridspecLayout(children=(Button(description='North', layout=Layout(grid_area='widget001', height='auto', width…"
      ]
     },
     "metadata": {},
     "output_type": "display_data"
    },
    {
     "data": {
      "application/vnd.jupyter.widget-view+json": {
       "model_id": "e1a3cce813cd4acea41e5235e985b2a1",
       "version_major": 2,
       "version_minor": 0
      },
      "text/plain": [
       "Output()"
      ]
     },
     "metadata": {},
     "output_type": "display_data"
    }
   ],
   "source": [
    "# create a stage control panel\n",
    "p = Panel(s)"
   ]
  },
  {
   "cell_type": "code",
   "execution_count": 11,
   "id": "4fd7b0ef-3f0c-494d-9a35-e6e6a62612fa",
   "metadata": {},
   "outputs": [],
   "source": [
    "# home the stage for positionning reproducibility\n",
    "#s.home()\n",
    "# move to a safe distance along the z axis, axis is x, y or z, distances are in millimeters\n",
    "s.move_axis('z',10)"
   ]
  },
  {
   "cell_type": "code",
   "execution_count": 12,
   "id": "31aa5084-188c-4f0c-b9df-f3e02a488df2",
   "metadata": {},
   "outputs": [],
   "source": [
    "# read the stage position\n",
    "myhome = s.get_position()"
   ]
  },
  {
   "cell_type": "code",
   "execution_count": 7,
   "id": "3d859ee6-f9e2-46f2-9d95-36c64bdc3651",
   "metadata": {},
   "outputs": [
    {
     "data": {
      "text/plain": [
       "{'X': -18.0, 'Y': -2.0, 'Z': 10.0, 'E': 0.0}"
      ]
     },
     "execution_count": 7,
     "metadata": {},
     "output_type": "execute_result"
    }
   ],
   "source": [
    "# position can be retrieved as a dict\n",
    "s.get_position(dict=True)"
   ]
  },
  {
   "cell_type": "code",
   "execution_count": 8,
   "id": "cec59688-38d8-44a8-b634-485798718122",
   "metadata": {},
   "outputs": [],
   "source": [
    "# move to (x,y(,z)) absolute coordinate\n",
    "s.move_absolute(50,120)"
   ]
  },
  {
   "cell_type": "code",
   "execution_count": 9,
   "id": "c37343d6-cdb0-414e-bd96-58761a6c62c4",
   "metadata": {},
   "outputs": [
    {
     "name": "stdout",
     "output_type": "stream",
     "text": [
      "G0 X 20 Y 30\n"
     ]
    }
   ],
   "source": [
    "# debug view the actual G-Code that was sent\n",
    "s.move_absolute(20,30, debug=True)"
   ]
  },
  {
   "cell_type": "code",
   "execution_count": 10,
   "id": "53406ef1-e936-4924-8e83-3142262cdba8",
   "metadata": {},
   "outputs": [],
   "source": [
    "# you can head towards standard directions, distances are always > 0\n",
    "s.move_towards('east',70)"
   ]
  },
  {
   "cell_type": "code",
   "execution_count": 11,
   "id": "1c58f4e1-8600-48f4-8b65-7fcd4bf721c8",
   "metadata": {},
   "outputs": [],
   "source": [
    "# you can move by some amount, relative to the current position\n",
    "s.move_relative(0,0,5)"
   ]
  },
  {
   "cell_type": "code",
   "execution_count": 12,
   "id": "a69c6998-464a-4e97-9101-6cfc97dc9f0d",
   "metadata": {},
   "outputs": [],
   "source": [
    "for i in range(15):\n",
    "    s.move_relative(-1,0,0)"
   ]
  },
  {
   "cell_type": "code",
   "execution_count": 13,
   "id": "582b35cd-a5ed-4145-b4d9-72df9fc57fad",
   "metadata": {},
   "outputs": [],
   "source": [
    "# a position is a tuple of length 2 or 3 to which you can move\n",
    "pos = (20,20)\n",
    "s.move_position(pos)"
   ]
  },
  {
   "cell_type": "code",
   "execution_count": 14,
   "id": "44cbb666-adb7-4f75-b6f3-2922d816ea88",
   "metadata": {},
   "outputs": [],
   "source": [
    "p = (40,40,10)\n",
    "s.move_position(p)"
   ]
  },
  {
   "cell_type": "code",
   "execution_count": 17,
   "id": "5d3e1b5e-a372-4f7c-aea6-18fc3ff3109d",
   "metadata": {},
   "outputs": [
    {
     "name": "stdout",
     "output_type": "stream",
     "text": [
      "echo:  G21    ; Units in mm (mm)\n",
      "echo:  M149 C ; Units in Celsius\n",
      "\n",
      "echo:; Filament settings: Disabled\n",
      "echo:  M200 S0 D1.75\n",
      "echo:; Steps per unit:\n",
      "echo: M92 X80.00 Y80.00 Z400.00 E93.00\n",
      "echo:; Maximum feedrates (units/s):\n",
      "echo:  M203 X300.00 Y300.00 Z5.00 E25.00\n",
      "echo:; Maximum Acceleration (units/s2):\n",
      "echo:  M201 X3000.00 Y3000.00 Z100.00 E10000.00\n",
      "echo:; Acceleration (units/s2): P<print_accel> R<retract_accel> T<travel_accel>\n",
      "echo:  M204 P3000.00 R3000.00 T3000.00\n",
      "echo:; Advanced: B<min_segment_time_us> S<min_feedrate> T<min_travel_feedrate> X<max_x_jerk> Y<max_y_jerk> Z<max_z_jerk> E<max_e_jerk>\n",
      "echo:  M205 B20000.00 S0.00 T0.00 X10.00 Y10.00 Z0.30 E5.00\n",
      "echo:; Home offset:\n",
      "echo:  M206 X0.00 Y0.00 Z0.00\n",
      "echo:; Material heatup parameters:\n",
      "echo:  M145 S0 H200.00 B60.00 F0\n",
      "echo:  M145 S1 H240.00 B80.00 F0\n",
      "echo:; PID settings:\n",
      "echo:  M301 P19.98 I0.88 D50.29\n",
      "echo:  M304 P462.10 I85.47 D624.59\n",
      "echo:; Power-Loss Recovery:\n",
      "echo:  M413 S1\n",
      "echo:; UI Language:\n",
      "echo:  M414 S1\n",
      "M503\n"
     ]
    },
    {
     "data": {
      "text/plain": [
       "'ok\\n'"
      ]
     },
     "execution_count": 17,
     "metadata": {},
     "output_type": "execute_result"
    }
   ],
   "source": [
    "# sending specific gcode to read device parameters\n",
    "s.write_code(f\"M503\", debug=True)"
   ]
  },
  {
   "cell_type": "code",
   "execution_count": 18,
   "id": "8bdc01f3-1661-4047-95e0-d02589a81d38",
   "metadata": {},
   "outputs": [],
   "source": [
    "s.write_code(f\"M203 Z50\") # increase z axis speed to 50\n",
    "s.move_axis('z',40) # go up fast\n",
    "s.write_code(f\"M203 Z5\") # restore z axis speed to 5\n",
    "s.move_axis('z',-40) # go down slowly"
   ]
  },
  {
   "cell_type": "code",
   "execution_count": 19,
   "id": "9085a11f-cf62-4588-baa4-a1cbe03cfb4c",
   "metadata": {},
   "outputs": [],
   "source": [
    "# create an array of positions to perform a raster scan\n",
    "import time\n",
    "import numpy as np\n",
    "origin = [50,120] # coordinates of first position\n",
    "steps = [25,-25] # x and y offsets to next item\n",
    "grid = np.array(list((x,y) for y in range(3) for x in range(4))) * steps + origin\n",
    "for p in grid:\n",
    "    s.move_position(p)\n",
    "    s.finish_moves() \n",
    "    #time.sleep(0.5)\n",
    "s.move_position(origin) # move back to origin\n"
   ]
  },
  {
   "cell_type": "code",
   "execution_count": 27,
   "id": "13369055-2a0e-4752-a216-d6370d7c7e19",
   "metadata": {},
   "outputs": [],
   "source": [
    "# do a x,y circle scan with oscillating z\n",
    "time.sleep(10)\n",
    "import math\n",
    "radius = 30\n",
    "center = (100,100)\n",
    "curr_z = s.get_position()[2]\n",
    "steps = 120\n",
    "for a in range(steps):\n",
    "    s.move_absolute(center[0]+radius*math.sin(2*math.pi*a/steps),\n",
    "                    center[1]+radius*math.cos(2*math.pi*a/steps),\n",
    "                    curr_z+5*math.sin(2*math.pi*(a*12)/steps))\n"
   ]
  },
  {
   "cell_type": "code",
   "execution_count": null,
   "id": "3b791c24-2930-444d-9601-495220a44cd3",
   "metadata": {},
   "outputs": [],
   "source": []
  }
 ],
 "metadata": {
  "kernelspec": {
   "display_name": "Python 3 (ipykernel)",
   "language": "python",
   "name": "python3"
  },
  "language_info": {
   "codemirror_mode": {
    "name": "ipython",
    "version": 3
   },
   "file_extension": ".py",
   "mimetype": "text/x-python",
   "name": "python",
   "nbconvert_exporter": "python",
   "pygments_lexer": "ipython3",
   "version": "3.9.19"
  }
 },
 "nbformat": 4,
 "nbformat_minor": 5
}
