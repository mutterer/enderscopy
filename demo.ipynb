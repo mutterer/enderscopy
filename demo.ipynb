{
 "cells": [
  {
   "cell_type": "markdown",
   "id": "0486e33e-f113-4151-8617-21a387a1cd20",
   "metadata": {},
   "source": [
    "## Enderscopy stage and lights demo"
   ]
  },
  {
   "cell_type": "markdown",
   "id": "d6eb0aa1-8e2d-43c5-bccd-0f79bd5a49c1",
   "metadata": {},
   "source": [
    "This notebook shows how to connect and drive an enderscope stage from Python."
   ]
  },
  {
   "cell_type": "code",
   "execution_count": 1,
   "id": "b70b5ea2-451c-456c-9c0a-170ae117e71c",
   "metadata": {},
   "outputs": [],
   "source": [
    "import time\n",
    "from enderscope import Stage, Panel, Enderlights\n",
    "from serial_utils import serial_ports"
   ]
  },
  {
   "cell_type": "code",
   "execution_count": 2,
   "id": "e1107c2a-cdb5-44ab-aef0-5193c3684a15",
   "metadata": {},
   "outputs": [
    {
     "name": "stdout",
     "output_type": "stream",
     "text": [
      "['/dev/tty.Bluetooth-Incoming-Port', '/dev/tty.usbserial-142130', '/dev/tty.usbmodem142301']\n"
     ]
    }
   ],
   "source": [
    "# list available serial ports\n",
    "ports = serial_ports()\n",
    "print (ports)"
   ]
  },
  {
   "cell_type": "code",
   "execution_count": 56,
   "id": "26b950d2-570e-4656-9f65-b9b196d140b1",
   "metadata": {},
   "outputs": [],
   "source": [
    "# connect to enderscope and create a stage object\n",
    "s = Stage(ports[1], 115200)"
   ]
  },
  {
   "cell_type": "code",
   "execution_count": 57,
   "id": "1e41961e-73fe-4cdb-a10a-38ec8b198d41",
   "metadata": {},
   "outputs": [
    {
     "data": {
      "application/vnd.jupyter.widget-view+json": {
       "model_id": "a1cc99e195334ae8bef4de19c9dc3d30",
       "version_major": 2,
       "version_minor": 0
      },
      "text/plain": [
       "GridspecLayout(children=(Button(description='Up', layout=Layout(grid_area='widget001', height='auto', width='a…"
      ]
     },
     "metadata": {},
     "output_type": "display_data"
    },
    {
     "data": {
      "application/vnd.jupyter.widget-view+json": {
       "model_id": "dc51d67859a344b0826e1588b20a4e62",
       "version_major": 2,
       "version_minor": 0
      },
      "text/plain": [
       "Output()"
      ]
     },
     "metadata": {},
     "output_type": "display_data"
    }
   ],
   "source": [
    "# create a stage control panel\n",
    "p = Panel(s)"
   ]
  },
  {
   "cell_type": "code",
   "execution_count": 5,
   "id": "9ea10739-bbdb-48de-b092-bfd44e15d1b5",
   "metadata": {},
   "outputs": [
    {
     "data": {
      "text/plain": [
       "[(50.0, 120.0, 0.0), None, None, None, None, None]"
      ]
     },
     "execution_count": 5,
     "metadata": {},
     "output_type": "execute_result"
    }
   ],
   "source": [
    "p.recorded_positions"
   ]
  },
  {
   "cell_type": "code",
   "execution_count": 7,
   "id": "cf84fdf8-a41b-422d-9511-df09c9bbcb5a",
   "metadata": {},
   "outputs": [],
   "source": [
    "# iterate over manually recorded positions\n",
    "for i in range(5):\n",
    "    for pos in p.recorded_positions:\n",
    "        s.move_position(pos)\n",
    "        s.finish_moves()\n",
    "        "
   ]
  },
  {
   "cell_type": "code",
   "execution_count": 14,
   "id": "4fd7b0ef-3f0c-494d-9a35-e6e6a62612fa",
   "metadata": {},
   "outputs": [],
   "source": [
    "# home the stage for positionning reproducibility\n",
    "s.home()\n",
    "# move to a safe distance along the z axis, axis is x, y or z, distances are in millimeters\n",
    "s.move_axis('z',10)"
   ]
  },
  {
   "cell_type": "code",
   "execution_count": 25,
   "id": "31aa5084-188c-4f0c-b9df-f3e02a488df2",
   "metadata": {},
   "outputs": [
    {
     "data": {
      "text/plain": [
       "(-18.0, -2.0, 10.0)"
      ]
     },
     "execution_count": 25,
     "metadata": {},
     "output_type": "execute_result"
    }
   ],
   "source": [
    "# read the stage position\n",
    "s.get_position()"
   ]
  },
  {
   "cell_type": "code",
   "execution_count": 26,
   "id": "3d859ee6-f9e2-46f2-9d95-36c64bdc3651",
   "metadata": {},
   "outputs": [
    {
     "data": {
      "text/plain": [
       "{'X': -18.0, 'Y': -2.0, 'Z': 10.0, 'E': 0.0}"
      ]
     },
     "execution_count": 26,
     "metadata": {},
     "output_type": "execute_result"
    }
   ],
   "source": [
    "# position can be retrieved as a dict\n",
    "s.get_position(dict=True)"
   ]
  },
  {
   "cell_type": "code",
   "execution_count": 18,
   "id": "f8aa5b0e-ca7c-410e-846c-bb4a46732c99",
   "metadata": {},
   "outputs": [],
   "source": []
  },
  {
   "cell_type": "code",
   "execution_count": 27,
   "id": "cec59688-38d8-44a8-b634-485798718122",
   "metadata": {},
   "outputs": [],
   "source": [
    "# move to (x,y(,z)) absolute coordinate\n",
    "s.move_absolute(50,120)"
   ]
  },
  {
   "cell_type": "code",
   "execution_count": null,
   "id": "c37343d6-cdb0-414e-bd96-58761a6c62c4",
   "metadata": {},
   "outputs": [],
   "source": [
    "# debug view the actual G-Code that was sent\n",
    "s.move_absolute(20,30, debug=True)"
   ]
  },
  {
   "cell_type": "code",
   "execution_count": 10,
   "id": "53406ef1-e936-4924-8e83-3142262cdba8",
   "metadata": {},
   "outputs": [],
   "source": [
    "# you can head towards standard directions, distances are always > 0\n",
    "s.move_towards('east',70)"
   ]
  },
  {
   "cell_type": "code",
   "execution_count": 28,
   "id": "1c58f4e1-8600-48f4-8b65-7fcd4bf721c8",
   "metadata": {},
   "outputs": [],
   "source": [
    "# you can move by some amount, relative to the current position\n",
    "s.move_relative(0,0,5)"
   ]
  },
  {
   "cell_type": "code",
   "execution_count": 29,
   "id": "a69c6998-464a-4e97-9101-6cfc97dc9f0d",
   "metadata": {},
   "outputs": [],
   "source": [
    "for i in range(15):\n",
    "    s.move_relative(-1,0,0)"
   ]
  },
  {
   "cell_type": "code",
   "execution_count": 30,
   "id": "582b35cd-a5ed-4145-b4d9-72df9fc57fad",
   "metadata": {},
   "outputs": [],
   "source": [
    "# a position is a tuple of length 2 or 3 to which you can move\n",
    "pos = (20,20)\n",
    "s.move_position(pos)"
   ]
  },
  {
   "cell_type": "code",
   "execution_count": 10,
   "id": "44cbb666-adb7-4f75-b6f3-2922d816ea88",
   "metadata": {},
   "outputs": [],
   "source": [
    "p = (40,40,10)\n",
    "s.move_position(p)"
   ]
  },
  {
   "cell_type": "code",
   "execution_count": 17,
   "id": "5d3e1b5e-a372-4f7c-aea6-18fc3ff3109d",
   "metadata": {},
   "outputs": [
    {
     "name": "stdout",
     "output_type": "stream",
     "text": [
      "echo:  G21    ; Units in mm (mm)\n",
      "echo:  M149 C ; Units in Celsius\n",
      "\n",
      "echo:; Filament settings: Disabled\n",
      "echo:  M200 S0 D1.75\n",
      "echo:; Steps per unit:\n",
      "echo: M92 X80.00 Y80.00 Z400.00 E93.00\n",
      "echo:; Maximum feedrates (units/s):\n",
      "echo:  M203 X300.00 Y300.00 Z5.00 E25.00\n",
      "echo:; Maximum Acceleration (units/s2):\n",
      "echo:  M201 X3000.00 Y3000.00 Z100.00 E10000.00\n",
      "echo:; Acceleration (units/s2): P<print_accel> R<retract_accel> T<travel_accel>\n",
      "echo:  M204 P3000.00 R3000.00 T3000.00\n",
      "echo:; Advanced: B<min_segment_time_us> S<min_feedrate> T<min_travel_feedrate> X<max_x_jerk> Y<max_y_jerk> Z<max_z_jerk> E<max_e_jerk>\n",
      "echo:  M205 B20000.00 S0.00 T0.00 X10.00 Y10.00 Z0.30 E5.00\n",
      "echo:; Home offset:\n",
      "echo:  M206 X0.00 Y0.00 Z0.00\n",
      "echo:; Material heatup parameters:\n",
      "echo:  M145 S0 H200.00 B60.00 F0\n",
      "echo:  M145 S1 H240.00 B80.00 F0\n",
      "echo:; PID settings:\n",
      "echo:  M301 P19.98 I0.88 D50.29\n",
      "echo:  M304 P462.10 I85.47 D624.59\n",
      "echo:; Power-Loss Recovery:\n",
      "echo:  M413 S1\n",
      "echo:; UI Language:\n",
      "echo:  M414 S1\n",
      "M503\n"
     ]
    },
    {
     "data": {
      "text/plain": [
       "'ok\\n'"
      ]
     },
     "execution_count": 17,
     "metadata": {},
     "output_type": "execute_result"
    }
   ],
   "source": [
    "# sending specific gcode to read device parameters\n",
    "s.write_code(f\"M503\", debug=True)"
   ]
  },
  {
   "cell_type": "code",
   "execution_count": null,
   "id": "8bdc01f3-1661-4047-95e0-d02589a81d38",
   "metadata": {},
   "outputs": [],
   "source": [
    "s.write_code(f\"M203 Z50\") # increase z axis speed to 50\n",
    "s.move_axis('z',40) # go up fast\n",
    "s.write_code(f\"M203 Z5\") # restore z axis speed to 5\n",
    "s.move_axis('z',-40) # go down slowly"
   ]
  },
  {
   "cell_type": "code",
   "execution_count": 15,
   "id": "6b9eefff-c56a-4dd3-a4ed-81391545cbd1",
   "metadata": {},
   "outputs": [],
   "source": [
    "l = Enderlights(ports[2])"
   ]
  },
  {
   "cell_type": "code",
   "execution_count": 16,
   "id": "ffc397a9-e45e-4d86-b120-8ec078c5ced1",
   "metadata": {},
   "outputs": [
    {
     "name": "stdout",
     "output_type": "stream",
     "text": [
      "RGB:100;10;30\n"
     ]
    }
   ],
   "source": [
    "# querrying LED state\n",
    "done = l.write_code(f\"?\\n\")"
   ]
  },
  {
   "cell_type": "code",
   "execution_count": 17,
   "id": "9a249dc5-76a7-4359-a0cd-b88c594fae26",
   "metadata": {},
   "outputs": [],
   "source": [
    "# setting LED colors\n",
    "l.color(100,0,0)\n",
    "l.green(10)\n",
    "l.blue(30)"
   ]
  },
  {
   "cell_type": "code",
   "execution_count": 18,
   "id": "ae05394c-f117-4ac5-ac80-8f1d705e6c06",
   "metadata": {},
   "outputs": [],
   "source": [
    "# blinking LEDs ;-)\n",
    "for i in range(10):\n",
    "    l.shutter(True)\n",
    "    time.sleep(0.05)\n",
    "    l.red(100)\n",
    "    l.shutter(False)\n",
    "    time.sleep(0.05)"
   ]
  },
  {
   "cell_type": "code",
   "execution_count": 22,
   "id": "9085a11f-cf62-4588-baa4-a1cbe03cfb4c",
   "metadata": {},
   "outputs": [],
   "source": [
    "# create an array of positions to perform a raster scan\n",
    "# import time\n",
    "import numpy as np\n",
    "origin = [50,120] # coordinates of first position\n",
    "steps = [25,-25] # x and y offsets to next item\n",
    "grid = np.array(list((x,y) for y in range(3) for x in range(4))) * steps + origin\n",
    "for p in grid:\n",
    "    s.move_position(p)\n",
    "    s.finish_moves() \n",
    "    l.shutter(True)\n",
    "    time.sleep(0.5)\n",
    "    l.shutter(False)\n",
    "\n",
    "s.move_position(origin) # move back to origin\n"
   ]
  },
  {
   "cell_type": "code",
   "execution_count": 68,
   "id": "3b791c24-2930-444d-9601-495220a44cd3",
   "metadata": {},
   "outputs": [],
   "source": [
    "# arbitrary curve from gcode\n",
    "# create curve in inkscape, export as svg, import in slicer, export gcode\n",
    "import os\n",
    "def read_g_code(fname):\n",
    "    fpath = os.path.join(\".\", fname)\n",
    "    with open(fpath, \"r\") as text_file:\n",
    "        data = text_file.read()\n",
    "    return data\n",
    "path = read_g_code(\"tests/path2.gcode\")"
   ]
  },
  {
   "cell_type": "code",
   "execution_count": 69,
   "id": "51d2602a-023e-4156-b668-a198b37dc24f",
   "metadata": {},
   "outputs": [
    {
     "name": "stdout",
     "output_type": "stream",
     "text": [
      "G1 X34.751 Y59.885\n",
      "G1 X29.685 Y58.899\n",
      "G1 X27.082 Y58.291\n",
      "G1 X24.533 Y57.604\n",
      "G1 X22.121 Y56.839\n",
      "G1 X19.932 Y55.998\n",
      "G1 X18.023 Y55.073\n",
      "G1 X16.475 Y54.064\n",
      "G1 X15.861 Y53.529\n",
      "G1 X15.368 Y52.974\n",
      "G1 X15.005 Y52.399\n",
      "G1 X14.769 Y51.77\n",
      "G1 X14.593 Y50.62\n",
      "G1 X14.636 Y49.518\n",
      "G1 X14.883 Y48.465\n",
      "G1 X15.293 Y47.499\n",
      "G1 X15.841 Y46.583\n",
      "G1 X16.499 Y45.707\n",
      "G1 X18.018 Y44.041\n",
      "G1 X19.629 Y42.412\n",
      "G1 X21.087 Y40.751\n",
      "G1 X21.675 Y39.899\n",
      "G1 X22.146 Y38.998\n",
      "G1 X22.463 Y38.051\n",
      "G1 X22.598 Y37.047\n",
      "G1 X22.523 Y36.038\n",
      "G1 X22.256 Y35.087\n",
      "G1 X21.818 Y34.168\n",
      "G1 X21.256 Y33.305\n",
      "G1 X19.876 Y31.656\n",
      "G1 X18.339 Y30.017\n",
      "G1 X16.905 Y28.32\n",
      "G1 X16.301 Y27.418\n",
      "G1 X15.817 Y26.471\n",
      "G1 X15.474 Y25.442\n",
      "G1 X15.323 Y24.393\n",
      "G1 X15.376 Y23.237\n",
      "G1 X15.68 Y21.966\n",
      "G1 X16.223 Y20.68\n",
      "G1 X17.009 Y19.349\n",
      "G1 X17.992 Y18.041\n",
      "G1 X19.151 Y16.762\n",
      "G1 X20.486 Y15.506\n",
      "G1 X21.946 Y14.318\n",
      "G1 X23.539 Y13.191\n",
      "G1 X25.211 Y12.161\n",
      "G1 X26.973 Y11.228\n",
      "G1 X28.77 Y10.423\n",
      "G1 X30.615 Y9.748\n"
     ]
    }
   ],
   "source": [
    "for i in range(1,50):\n",
    "    bit = path.split('\\n')[i]\n",
    "    bit = bit[0:bit.index('E')-1]\n",
    "    s.write_code(bit, debug=True)"
   ]
  },
  {
   "cell_type": "code",
   "execution_count": null,
   "id": "13371146-0bad-4ce8-9d41-2e79bc8e6c16",
   "metadata": {},
   "outputs": [],
   "source": []
  }
 ],
 "metadata": {
  "kernelspec": {
   "display_name": "Python 3 (ipykernel)",
   "language": "python",
   "name": "python3"
  },
  "language_info": {
   "codemirror_mode": {
    "name": "ipython",
    "version": 3
   },
   "file_extension": ".py",
   "mimetype": "text/x-python",
   "name": "python",
   "nbconvert_exporter": "python",
   "pygments_lexer": "ipython3",
   "version": "3.9.19"
  }
 },
 "nbformat": 4,
 "nbformat_minor": 5
}
