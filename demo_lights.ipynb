{
 "cells": [
  {
   "cell_type": "markdown",
   "id": "0486e33e-f113-4151-8617-21a387a1cd20",
   "metadata": {},
   "source": [
    "## Enderlights demo"
   ]
  },
  {
   "cell_type": "markdown",
   "id": "d6eb0aa1-8e2d-43c5-bccd-0f79bd5a49c1",
   "metadata": {},
   "source": [
    "This notebook shows how to connect and drive an enderscope illumination from Python."
   ]
  },
  {
   "cell_type": "code",
   "execution_count": 1,
   "id": "b70b5ea2-451c-456c-9c0a-170ae117e71c",
   "metadata": {},
   "outputs": [],
   "source": [
    "import time\n",
    "from enderscope import SerialUtils, Enderlights"
   ]
  },
  {
   "cell_type": "code",
   "execution_count": 2,
   "id": "e1107c2a-cdb5-44ab-aef0-5193c3684a15",
   "metadata": {},
   "outputs": [
    {
     "name": "stdout",
     "output_type": "stream",
     "text": [
      "['/dev/tty.usbmodem144301', '/dev/tty.Bluetooth-Incoming-Port']\n"
     ]
    }
   ],
   "source": [
    "# list available serial ports\n",
    "ports = SerialUtils.serial_ports()\n",
    "print (ports)"
   ]
  },
  {
   "cell_type": "code",
   "execution_count": 3,
   "id": "6b9eefff-c56a-4dd3-a4ed-81391545cbd1",
   "metadata": {},
   "outputs": [],
   "source": [
    "l = Enderlights(ports[0],baud_rate=57600)"
   ]
  },
  {
   "cell_type": "code",
   "execution_count": 4,
   "id": "ffc397a9-e45e-4d86-b120-8ec078c5ced1",
   "metadata": {},
   "outputs": [
    {
     "name": "stdout",
     "output_type": "stream",
     "text": [
      "RGB:20;20;20\n"
     ]
    }
   ],
   "source": [
    "# querrying LED state and example of how to send low level cmd \n",
    "done = l.write_code(f\"?\\n\")"
   ]
  },
  {
   "cell_type": "code",
   "execution_count": 5,
   "id": "e4083f75-24a5-4070-959d-c15f6d1f2898",
   "metadata": {},
   "outputs": [],
   "source": [
    "l.shutter(True)"
   ]
  },
  {
   "cell_type": "code",
   "execution_count": 22,
   "id": "9a249dc5-76a7-4359-a0cd-b88c594fae26",
   "metadata": {},
   "outputs": [],
   "source": [
    "# setting LED colors\n",
    "l.color(50,0,50)"
   ]
  },
  {
   "cell_type": "code",
   "execution_count": 7,
   "id": "ae05394c-f117-4ac5-ac80-8f1d705e6c06",
   "metadata": {},
   "outputs": [],
   "source": [
    "# blinking LEDs ;-)\n",
    "for i in range(10):\n",
    "    l.shutter(True)\n",
    "    time.sleep(0.05)\n",
    "    l.shutter(False)\n",
    "    time.sleep(0.05)"
   ]
  },
  {
   "cell_type": "code",
   "execution_count": 23,
   "id": "13371146-0bad-4ce8-9d41-2e79bc8e6c16",
   "metadata": {},
   "outputs": [],
   "source": [
    "# mode 2 allows using a single LED\n",
    "l.mode(2)\n",
    "l.parameter(1)\n",
    "l.shutter(True)\n",
    "for i in range(50):\n",
    "    l.parameter(i%12)\n",
    "    time.sleep(0.05)\n",
    "l.shutter(False)"
   ]
  },
  {
   "cell_type": "code",
   "execution_count": 19,
   "id": "1b45afdd-56dd-4703-ad9a-6dfead76ad0d",
   "metadata": {},
   "outputs": [],
   "source": [
    "# mode 1 uses quarter ring patterns\n",
    "l.mode(1)\n",
    "l.shutter(True)\n",
    "patterns=[0b0001,0b0010,0b0100,0b1000,0b1100,0b0011,0b1001,0b0110,0b0101,0b1010]\n",
    "for repeats in range(2):\n",
    "     for p in patterns:\n",
    "        l.parameter(p)\n",
    "        time.sleep(0.5)\n",
    "l.shutter(False)"
   ]
  },
  {
   "cell_type": "code",
   "execution_count": 14,
   "id": "bde04dc1-ee79-47df-b358-e08be1edd376",
   "metadata": {},
   "outputs": [],
   "source": [
    "l.reset()"
   ]
  },
  {
   "cell_type": "code",
   "execution_count": null,
   "id": "97990454-3aa2-4e3e-a4a2-b05fff7f1e57",
   "metadata": {},
   "outputs": [],
   "source": []
  }
 ],
 "metadata": {
  "kernelspec": {
   "display_name": "Python 3 (ipykernel)",
   "language": "python",
   "name": "python3"
  },
  "language_info": {
   "codemirror_mode": {
    "name": "ipython",
    "version": 3
   },
   "file_extension": ".py",
   "mimetype": "text/x-python",
   "name": "python",
   "nbconvert_exporter": "python",
   "pygments_lexer": "ipython3",
   "version": "3.9.19"
  }
 },
 "nbformat": 4,
 "nbformat_minor": 5
}
