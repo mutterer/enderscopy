{
 "cells": [
  {
   "cell_type": "markdown",
   "id": "0486e33e-f113-4151-8617-21a387a1cd20",
   "metadata": {},
   "source": [
    "## Enderscopy stage and lights demo"
   ]
  },
  {
   "cell_type": "markdown",
   "id": "d6eb0aa1-8e2d-43c5-bccd-0f79bd5a49c1",
   "metadata": {},
   "source": [
    "This notebook shows how to connect and drive an enderscope stage from Python."
   ]
  },
  {
   "metadata": {},
   "cell_type": "code",
   "outputs": [],
   "execution_count": null,
   "source": [
    "import time\n",
    "\n",
    "import numpy as np\n",
    "\n",
    "from enderscope import SerialDevice, Stage, EnderLights"
   ],
   "id": "2029be95f565e80e"
  },
  {
   "metadata": {},
   "cell_type": "code",
   "outputs": [],
   "execution_count": null,
   "source": [
    "# list available serial ports\n",
    "ports = SerialDevice.serial_ports()\n",
    "print(ports)"
   ],
   "id": "da7bd766630ddf42"
  },
  {
   "metadata": {},
   "cell_type": "code",
   "outputs": [],
   "execution_count": null,
   "source": [
    "light_port = ports[1]\n",
    "stage_port = ports[2]"
   ],
   "id": "bc5ff717ce615c85"
  },
  {
   "metadata": {},
   "cell_type": "code",
   "outputs": [],
   "execution_count": null,
   "source": [
    "# connect to enderscope and create a stage object\n",
    "stage = Stage(stage_port, 115200)\n",
    "lights = EnderLights(light_port, 57600)\n",
    "\n",
    "stage.home()\n",
    "stage.move_relative(0, 0, 10)"
   ],
   "id": "4ce8893c6896fc8"
  },
  {
   "metadata": {},
   "cell_type": "code",
   "outputs": [],
   "execution_count": null,
   "source": [
    "# create an array of positions to perform a raster scan\n",
    "# import time\n",
    "\n",
    "origin = [56,100] # coordinates of first position\n",
    "steps = [25,-25] # x and y offsets to next item\n",
    "grid = np.array(list((x,y) for y in range(3) for x in range(4))) * steps + origin\n",
    "for p in grid:\n",
    "    stage.move_position(p)\n",
    "    stage.finish_moves()\n",
    "    lights.shutter(True)\n",
    "    time.sleep(0.5)\n",
    "    lights.shutter(False)\n",
    "\n",
    "stage.move_position(origin) # move back to origin\n"
   ],
   "id": "e4cd68625c1baf5a"
  }
 ],
 "metadata": {
  "kernelspec": {
   "display_name": "Python 3 (ipykernel)",
   "language": "python",
   "name": "python3"
  },
  "language_info": {
   "codemirror_mode": {
    "name": "ipython",
    "version": 3
   },
   "file_extension": ".py",
   "mimetype": "text/x-python",
   "name": "python",
   "nbconvert_exporter": "python",
   "pygments_lexer": "ipython3",
   "version": "3.11.2"
  }
 },
 "nbformat": 4,
 "nbformat_minor": 5
}
