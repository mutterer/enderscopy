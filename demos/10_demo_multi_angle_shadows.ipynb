{
 "cells": [
  {
   "metadata": {},
   "cell_type": "markdown",
   "source": "# Multi Angle illumination demo\n",
   "id": "4372d4925001252a"
  },
  {
   "metadata": {},
   "cell_type": "code",
   "outputs": [],
   "execution_count": null,
   "source": [
    "from enderscope import SerialUtils, EnderLights, Stage\n",
    "import matplotlib.pyplot as plt\n",
    "import numpy as np\n",
    "import time"
   ],
   "id": "725097e948fe6e2a"
  },
  {
   "metadata": {},
   "cell_type": "markdown",
   "source": [
    "\n",
    "## remove shadows by computing pixel wise maximum value accross multiple images"
   ],
   "id": "796481f65dd51a3e"
  },
  {
   "metadata": {},
   "cell_type": "code",
   "outputs": [],
   "execution_count": null,
   "source": [
    "from picamera2 import Picamera2\n",
    "try:\n",
    "    cam\n",
    "except NameError:\n",
    "    pass\n",
    "else:\n",
    "    cam.close()\n",
    "cam = Picamera2()\n",
    "cam.start(show_preview=True)"
   ],
   "id": "4c26ea191448d5dd"
  },
  {
   "metadata": {},
   "cell_type": "code",
   "outputs": [],
   "execution_count": null,
   "source": [
    "cam.set_controls({'AwbEnable':True,'AeEnable':False})\n",
    "cam.set_controls({'ExposureTime':10000, 'AnalogueGain':3.0})"
   ],
   "id": "dd4bc80bd6be0118"
  },
  {
   "metadata": {},
   "cell_type": "markdown",
   "source": "## list available serial ports",
   "id": "5cc50be9c5451c61"
  },
  {
   "metadata": {},
   "cell_type": "code",
   "outputs": [],
   "execution_count": null,
   "source": [
    "ports = SerialUtils.serial_ports()\n",
    "print(ports)"
   ],
   "id": "60b00fb60b3d6497"
  },
  {
   "metadata": {},
   "cell_type": "code",
   "outputs": [],
   "execution_count": null,
   "source": [
    "light_port = ports[1]\n",
    "stage_port = ports[2]\n",
    "stage = Stage(stage_port, 115200)\n",
    "lights = EnderLights(light_port, baud_rate=57600)\n",
    "stage.home()"
   ],
   "id": "34d5d01c4a0c4a08"
  },
  {
   "metadata": {},
   "cell_type": "code",
   "outputs": [],
   "execution_count": null,
   "source": [
    "stage.move_position([55, 75, 22])\n",
    "lights.shutter(True)\n",
    "lights.color(0, 25, 0)"
   ],
   "id": "3e4e6fceb3a43db7"
  },
  {
   "metadata": {},
   "cell_type": "code",
   "outputs": [],
   "execution_count": null,
   "source": [
    "# mode 1 uses quarter ring patterns\n",
    "lights.mode(1)\n",
    "lights.shutter(True)\n",
    "patterns=[0b0001, 0b0010, 0b0100, 0b1000]\n",
    "images=[]\n",
    "result = []\n",
    "i = 0\n",
    "for p in patterns:\n",
    "    lights.parameter(p)\n",
    "    time.sleep(0.1)\n",
    "    img = cam.capture_array('main')\n",
    "    green = np.float32(img[:,:,1])\n",
    "    images.append(green)\n",
    "    if i == 0 :\n",
    "        result = images[i]\n",
    "    else :\n",
    "        result = np.maximum(result,images[i])\n",
    "    i += 1\n",
    "lights.shutter(False)\n",
    "img_plot = plt.imshow(result, cmap='gray')"
   ],
   "id": "99aeb066784bfcdd"
  },
  {
   "metadata": {
    "jupyter": {
     "is_executing": true
    }
   },
   "cell_type": "code",
   "source": [
    "lights.color(0, 25, 0)\n",
    "# test with more angles\n",
    "lights.mode(2)\n",
    "lights.parameter(1)\n",
    "lights.shutter(True)\n",
    "patterns=range(13)\n",
    "images = []\n",
    "result = []\n",
    "i = 0\n",
    "for p in patterns:\n",
    "    lights.parameter(p)\n",
    "    time.sleep(0.1)\n",
    "    img = cam.capture_array('main')\n",
    "    green = np.float32(img[:,:,1])\n",
    "    images.append(green)\n",
    "    if i == 0 :\n",
    "        result = images[i]\n",
    "    else :\n",
    "        result = np.maximum(result,images[i])\n",
    "    i += 1\n",
    "lights.shutter(False)\n",
    "img_plot = plt.imshow(result, cmap='gray')"
   ],
   "id": "a9a02e2f96eccc5e",
   "outputs": [],
   "execution_count": null
  },
  {
   "metadata": {},
   "cell_type": "code",
   "outputs": [],
   "execution_count": null,
   "source": "",
   "id": "3c3d9798d46c55c"
  }
 ],
 "metadata": {
  "kernelspec": {
   "display_name": "Python 3 (ipykernel)",
   "language": "python",
   "name": "python3"
  },
  "language_info": {
   "codemirror_mode": {
    "name": "ipython",
    "version": 3
   },
   "file_extension": ".py",
   "mimetype": "text/x-python",
   "name": "python",
   "nbconvert_exporter": "python",
   "pygments_lexer": "ipython3",
   "version": "3.11.2"
  }
 },
 "nbformat": 4,
 "nbformat_minor": 5
}
