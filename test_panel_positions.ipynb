{
 "cells": [
  {
   "cell_type": "code",
   "execution_count": 1,
   "id": "b70b5ea2-451c-456c-9c0a-170ae117e71c",
   "metadata": {},
   "outputs": [
    {
     "name": "stdout",
     "output_type": "stream",
     "text": [
      "['/dev/tty.Bluetooth-Incoming-Port', '/dev/tty.usbserial-142130']\n"
     ]
    }
   ],
   "source": [
    "from enderscope import Stage, Panel\n",
    "from serial_utils import serial_ports\n",
    "print (serial_ports())"
   ]
  },
  {
   "cell_type": "code",
   "execution_count": 2,
   "id": "26b950d2-570e-4656-9f65-b9b196d140b1",
   "metadata": {},
   "outputs": [],
   "source": [
    "s = Stage(serial_ports()[1], 115200, homing=False)"
   ]
  },
  {
   "cell_type": "code",
   "execution_count": 3,
   "id": "ab738be1-3e84-4b3e-9f2e-e2a970eda432",
   "metadata": {},
   "outputs": [
    {
     "data": {
      "application/vnd.jupyter.widget-view+json": {
       "model_id": "d0e81451f0344126bfabae5d12b9db1d",
       "version_major": 2,
       "version_minor": 0
      },
      "text/plain": [
       "GridspecLayout(children=(Button(description='Up', layout=Layout(grid_area='widget001', height='auto', width='a…"
      ]
     },
     "metadata": {},
     "output_type": "display_data"
    },
    {
     "data": {
      "application/vnd.jupyter.widget-view+json": {
       "model_id": "615b6077ebc845f6b4c84e7429f6a005",
       "version_major": 2,
       "version_minor": 0
      },
      "text/plain": [
       "Output()"
      ]
     },
     "metadata": {},
     "output_type": "display_data"
    }
   ],
   "source": [
    "p = Panel(s)"
   ]
  },
  {
   "cell_type": "code",
   "execution_count": 4,
   "id": "38ab9be2-b6c1-4ff5-ae40-4fac8b959e58",
   "metadata": {},
   "outputs": [
    {
     "data": {
      "text/plain": [
       "[(103.43, 129.96, 32.06),\n",
       " (118.43, 129.96, 32.06),\n",
       " None,\n",
       " (118.43, 119.96, 32.06),\n",
       " None,\n",
       " None]"
      ]
     },
     "execution_count": 4,
     "metadata": {},
     "output_type": "execute_result"
    }
   ],
   "source": [
    "p.recorded_positions"
   ]
  },
  {
   "cell_type": "code",
   "execution_count": 5,
   "id": "457ca97c-2024-403a-9594-d4863dfccff8",
   "metadata": {},
   "outputs": [],
   "source": [
    "for i in range(5):\n",
    "    for pos in p.recorded_positions:\n",
    "        s.move_position(pos)\n",
    "        s.finish_moves()\n",
    "        "
   ]
  },
  {
   "cell_type": "code",
   "execution_count": 3,
   "id": "3953f002-74f9-4680-821f-18066b37c9a4",
   "metadata": {},
   "outputs": [
    {
     "data": {
      "image/png": "[encoded data removed]",
      "text/plain": [
       "<IPython.core.display.Image object>"
      ]
     },
     "metadata": {},
     "output_type": "display_data"
    }
   ],
   "source": [
    "import matplotlib.pyplot as plt\n",
    "import numpy as np\n",
    "from io import BytesIO\n",
    "from IPython.display import display, Image\n",
    "\n",
    "# Define an array of coordinates\n",
    "points = np.array([\n",
    "    [1, 2],\n",
    "    [2, 3],\n",
    "    [3, 1],\n",
    "    [4, 5],\n",
    "    [5, 4],\n",
    "])\n",
    "\n",
    "# Split the array into x and y coordinates\n",
    "x_coords = points[:, 0]\n",
    "y_coords = points[:, 1]\n",
    "\n",
    "# Create a BytesIO object to save the plot\n",
    "buf = BytesIO()\n",
    "\n",
    "# Set the desired resolution\n",
    "desired_width = 400\n",
    "desired_height = 300\n",
    "\n",
    "# Calculate DPI\n",
    "fig_width_in = 6  # width in inches\n",
    "fig_height_in = 4.5  # height in inches\n",
    "dpi = min(desired_width / fig_width_in, desired_height / fig_height_in)\n",
    "\n",
    "# Create a scatter plot with specified size\n",
    "plt.figure(figsize=(fig_width_in, fig_height_in))\n",
    "plt.scatter(x_coords, y_coords)\n",
    "plt.title('Scatter Plot of Points')\n",
    "plt.xlabel('X Coordinate')\n",
    "plt.ylabel('Y Coordinate')\n",
    "plt.grid(True)\n",
    "\n",
    "# Set the axis limits\n",
    "plt.xlim(-20, 200)\n",
    "plt.ylim(-20, 200)\n",
    "\n",
    "# Save the plot to the BytesIO object with specified resolution\n",
    "plt.savefig(buf, format='png', dpi=dpi)\n",
    "plt.close()\n",
    "\n",
    "# Display the image\n",
    "display(Image(data=buf.getvalue(), format='png'))"
   ]
  },
  {
   "cell_type": "code",
   "execution_count": null,
   "id": "68ae4586-0210-422e-a511-2816a4763dbb",
   "metadata": {},
   "outputs": [],
   "source": []
  }
 ],
 "metadata": {
  "kernelspec": {
   "display_name": "Python 3 (ipykernel)",
   "language": "python",
   "name": "python3"
  },
  "language_info": {
   "codemirror_mode": {
    "name": "ipython",
    "version": 3
   },
   "file_extension": ".py",
   "mimetype": "text/x-python",
   "name": "python",
   "nbconvert_exporter": "python",
   "pygments_lexer": "ipython3",
   "version": "3.9.19"
  }
 },
 "nbformat": 4,
 "nbformat_minor": 5
}
